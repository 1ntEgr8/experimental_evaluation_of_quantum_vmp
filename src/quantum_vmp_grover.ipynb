{
 "cells": [
  {
   "cell_type": "code",
   "execution_count": 2,
   "id": "24271525",
   "metadata": {},
   "outputs": [],
   "source": [
    "import numpy as np\n",
    "import math\n",
    "import os\n",
    "from qiskit import QuantumCircuit, QuantumRegister, ClassicalRegister\n",
    "from qiskit import Aer, assemble, transpile, IBMQ\n",
    "from qiskit.visualization import plot_histogram\n",
    "from qiskit.utils import summarize_circuits\n",
    "from qiskit.algorithms import Grover, AmplificationProblem\n",
    "from qiskit.circuit.library import GroverOperator"
   ]
  },
  {
   "cell_type": "code",
   "execution_count": 4,
   "id": "9d62c954",
   "metadata": {},
   "outputs": [],
   "source": [
    "results_dir = os.path.join(\"..\", \"paper\", \"results\")\n",
    "os.makedirs(results_dir, exist_ok=True)"
   ]
  },
  {
   "cell_type": "markdown",
   "id": "2dcd5f0b",
   "metadata": {},
   "source": [
    "Design constraints\n",
    "- Each element $x \\in \\{0, 1\\}$\n",
    "- $n \\in \\mathbb{N}$ and $\\sqrt{n} \\in \\mathbb{N}$"
   ]
  },
  {
   "cell_type": "code",
   "execution_count": null,
   "id": "fb8f49cb",
   "metadata": {},
   "outputs": [],
   "source": [
    "# https://stackoverflow.com/questions/16856788/slice-2d-array-into-smaller-2d-arrays\n",
    "def blockshaped(arr, nrows, ncols):\n",
    "    \"\"\"\n",
    "    Return an array of shape (n, nrows, ncols) where\n",
    "    n * nrows * ncols = arr.size\n",
    "\n",
    "    If arr is a 2D array, the returned array should look like n subblocks with\n",
    "    each subblock preserving the \"physical\" layout of arr.\n",
    "    \"\"\"\n",
    "    h, w = arr.shape\n",
    "    assert h % nrows == 0, f\"{h} rows is not evenly divisible by {nrows}\"\n",
    "    assert w % ncols == 0, f\"{w} cols is not evenly divisible by {ncols}\"\n",
    "    return (arr.reshape(h//nrows, nrows, -1, ncols)\n",
    "               .swapaxes(1,2)\n",
    "               .reshape(-1, nrows, ncols))"
   ]
  },
  {
   "cell_type": "code",
   "execution_count": null,
   "id": "683f9548",
   "metadata": {},
   "outputs": [],
   "source": [
    "def check_square_matrix(a):\n",
    "    assert len(a.shape) == 2, \"a is not a 2-d matrix\"\n",
    "    m, n = a.shape\n",
    "    assert m == n, \"a is not a square matrix\""
   ]
  },
  {
   "cell_type": "code",
   "execution_count": null,
   "id": "b9456e4a",
   "metadata": {},
   "outputs": [],
   "source": [
    "def qvmp(a, b, c):\n",
    "    assert a.shape == b.shape and b.shape == c.shape, \"a, b, c do not have the same dimensions\"\n",
    "    \n",
    "    check_square_matrix(a)\n",
    "    check_square_matrix(b)\n",
    "    check_square_matrix(c)\n",
    "    \n",
    "    n = a.shape[0]\n",
    "    assert math.sqrt(n).is_integer(), f\"n = {n} is not a square number\"\n",
    "    n_s = int(math.sqrt(n))\n",
    "\n",
    "    bis = blockshaped(b, n, n_s)\n",
    "    cis = blockshaped(c, n, n_s)\n",
    "    blocks = zip(bis, cis)\n",
    "\n",
    "    results = []\n",
    "    for (bi, ci) in blocks:\n",
    "        circ = vmp_circ(a, bi, ci)\n",
    "#         circ.run()\n",
    "#         results.append(circ.measure())\n",
    "\n",
    "    return all(results)"
   ]
  },
  {
   "cell_type": "code",
   "execution_count": null,
   "id": "926ad5c1",
   "metadata": {},
   "outputs": [],
   "source": [
    "np.random.seed(0)\n",
    "a = np.random.randint(0, 2, (4,4))\n",
    "b = np.random.randint(0, 2, (4,4))\n",
    "c = np.random.randint(0, 2, (4,4))\n",
    "\n",
    "qvmp(a, b, c)"
   ]
  },
  {
   "cell_type": "markdown",
   "id": "6c1c2646",
   "metadata": {},
   "source": [
    "## Utilities"
   ]
  },
  {
   "cell_type": "code",
   "execution_count": 12,
   "id": "1969f077",
   "metadata": {},
   "outputs": [],
   "source": [
    "def encode_array(qc, a_reg, a):\n",
    "    a_flat = a.reshape(-1)\n",
    "    it = np.nditer(a_flat, flags=['f_index'])\n",
    "    for x in it:\n",
    "        if x != 0:\n",
    "            qc.x(a_reg[it.index])"
   ]
  },
  {
   "cell_type": "code",
   "execution_count": 13,
   "id": "d97dc119",
   "metadata": {},
   "outputs": [],
   "source": [
    "def sim_aer(qc):\n",
    "    aer_sim = Aer.get_backend('aer_simulator')\n",
    "    transpiled_qc = transpile(qc, aer_sim)\n",
    "    qobj = assemble(transpiled_qc)\n",
    "    result = aer_sim.run(qobj).result()\n",
    "    counts = result.get_counts()\n",
    "    plot_histogram(counts)"
   ]
  },
  {
   "cell_type": "markdown",
   "id": "f2c5e9a5",
   "metadata": {},
   "source": [
    "## Matrix Row Indexing"
   ]
  },
  {
   "cell_type": "code",
   "execution_count": 14,
   "id": "299eaf34",
   "metadata": {},
   "outputs": [],
   "source": [
    "def matrix_row_indexer(num_rows, num_columns):\n",
    "    num_matrix_elements = num_rows * num_columns\n",
    "    num_idx_bits = math.ceil(math.log2(num_rows))\n",
    "    \n",
    "    matrix_reg = QuantumRegister(num_matrix_elements, name=\"a\")\n",
    "    idx_reg = QuantumRegister(num_idx_bits, name=\"idx\")\n",
    "    data_reg = QuantumRegister(num_columns, name=\"data\")\n",
    "    \n",
    "    qc = QuantumCircuit(matrix_reg, idx_reg, data_reg)\n",
    "    \n",
    "    for i in range(num_rows):\n",
    "        # set up idx\n",
    "        idx_bit_string = format(i, f'0{num_idx_bits}b')[::-1]\n",
    "        for j, c in enumerate(idx_bit_string):\n",
    "            if c == '0':\n",
    "                qc.x(idx_reg[j])\n",
    "\n",
    "        # do the index\n",
    "        idx_qubits = [qubit for qubit in idx_reg]\n",
    "        for j in range(i*num_columns, (i+1)*num_columns):\n",
    "            qc.mct([matrix_reg[j]] + idx_qubits, data_reg[j%num_columns])\n",
    "\n",
    "        # reset idx\n",
    "        for j, c in enumerate(idx_bit_string):\n",
    "            if c == '0':\n",
    "                qc.x(idx_reg[j])\n",
    "    \n",
    "    return qc"
   ]
  },
  {
   "cell_type": "code",
   "execution_count": 88,
   "id": "241a0bf3",
   "metadata": {},
   "outputs": [
    {
     "data": {
      "text/html": [
       "<pre style=\"word-wrap: normal;white-space: pre;background: #fff0;line-height: 1.1;font-family: &quot;Courier New&quot;,Courier,monospace\">              ┌──────────────────────┐            \n",
       "    a_0: ─────┤0                     ├────────────\n",
       "         ┌───┐│                      │            \n",
       "    a_1: ┤ X ├┤1                     ├────────────\n",
       "         └───┘│                      │            \n",
       "    a_2: ─────┤2                     ├────────────\n",
       "         ┌───┐│                      │            \n",
       "    a_3: ┤ X ├┤3                     ├────────────\n",
       "         ├───┤│                      │            \n",
       "    a_4: ┤ X ├┤4                     ├────────────\n",
       "         ├───┤│                      │            \n",
       "    a_5: ┤ X ├┤5                     ├────────────\n",
       "         ├───┤│                      │            \n",
       "    a_6: ┤ X ├┤6                     ├────────────\n",
       "         └───┘│                      │            \n",
       "    a_7: ─────┤7                     ├────────────\n",
       "         ┌───┐│                      │            \n",
       "    a_8: ┤ X ├┤8                     ├────────────\n",
       "         └───┘│                      │            \n",
       "    a_9: ─────┤9                     ├────────────\n",
       "              │                      │            \n",
       "   a_10: ─────┤10                    ├────────────\n",
       "         ┌───┐│   Matrix Row Indexer │            \n",
       "   a_11: ┤ X ├┤11                    ├────────────\n",
       "         ├───┤│                      │            \n",
       "   a_12: ┤ X ├┤12                    ├────────────\n",
       "         └───┘│                      │            \n",
       "   a_13: ─────┤13                    ├────────────\n",
       "         ┌───┐│                      │            \n",
       "   a_14: ┤ X ├┤14                    ├────────────\n",
       "         └───┘│                      │            \n",
       "   a_15: ─────┤15                    ├────────────\n",
       "         ┌───┐│                      │            \n",
       "  idx_0: ┤ H ├┤16                    ├────────────\n",
       "         ├───┤│                      │            \n",
       "  idx_1: ┤ H ├┤17                    ├────────────\n",
       "         └───┘│                      │         ┌─┐\n",
       " data_0: ─────┤18                    ├─────────┤M├\n",
       "              │                      │      ┌─┐└╥┘\n",
       " data_1: ─────┤19                    ├──────┤M├─╫─\n",
       "              │                      │   ┌─┐└╥┘ ║ \n",
       " data_2: ─────┤20                    ├───┤M├─╫──╫─\n",
       "              │                      │┌─┐└╥┘ ║  ║ \n",
       " data_3: ─────┤21                    ├┤M├─╫──╫──╫─\n",
       "              └──────────────────────┘└╥┘ ║  ║  ║ \n",
       "cdata: 4/══════════════════════════════╩══╩══╩══╩═\n",
       "                                       0  1  2  3 </pre>"
      ],
      "text/plain": [
       "              ┌──────────────────────┐            \n",
       "    a_0: ─────┤0                     ├────────────\n",
       "         ┌───┐│                      │            \n",
       "    a_1: ┤ X ├┤1                     ├────────────\n",
       "         └───┘│                      │            \n",
       "    a_2: ─────┤2                     ├────────────\n",
       "         ┌───┐│                      │            \n",
       "    a_3: ┤ X ├┤3                     ├────────────\n",
       "         ├───┤│                      │            \n",
       "    a_4: ┤ X ├┤4                     ├────────────\n",
       "         ├───┤│                      │            \n",
       "    a_5: ┤ X ├┤5                     ├────────────\n",
       "         ├───┤│                      │            \n",
       "    a_6: ┤ X ├┤6                     ├────────────\n",
       "         └───┘│                      │            \n",
       "    a_7: ─────┤7                     ├────────────\n",
       "         ┌───┐│                      │            \n",
       "    a_8: ┤ X ├┤8                     ├────────────\n",
       "         └───┘│                      │            \n",
       "    a_9: ─────┤9                     ├────────────\n",
       "              │                      │            \n",
       "   a_10: ─────┤10                    ├────────────\n",
       "         ┌───┐│   Matrix Row Indexer │            \n",
       "   a_11: ┤ X ├┤11                    ├────────────\n",
       "         ├───┤│                      │            \n",
       "   a_12: ┤ X ├┤12                    ├────────────\n",
       "         └───┘│                      │            \n",
       "   a_13: ─────┤13                    ├────────────\n",
       "         ┌───┐│                      │            \n",
       "   a_14: ┤ X ├┤14                    ├────────────\n",
       "         └───┘│                      │            \n",
       "   a_15: ─────┤15                    ├────────────\n",
       "         ┌───┐│                      │            \n",
       "  idx_0: ┤ H ├┤16                    ├────────────\n",
       "         ├───┤│                      │            \n",
       "  idx_1: ┤ H ├┤17                    ├────────────\n",
       "         └───┘│                      │         ┌─┐\n",
       " data_0: ─────┤18                    ├─────────┤M├\n",
       "              │                      │      ┌─┐└╥┘\n",
       " data_1: ─────┤19                    ├──────┤M├─╫─\n",
       "              │                      │   ┌─┐└╥┘ ║ \n",
       " data_2: ─────┤20                    ├───┤M├─╫──╫─\n",
       "              │                      │┌─┐└╥┘ ║  ║ \n",
       " data_3: ─────┤21                    ├┤M├─╫──╫──╫─\n",
       "              └──────────────────────┘└╥┘ ║  ║  ║ \n",
       "cdata: 4/══════════════════════════════╩══╩══╩══╩═\n",
       "                                       0  1  2  3 "
      ]
     },
     "execution_count": 88,
     "metadata": {},
     "output_type": "execute_result"
    }
   ],
   "source": [
    "a = np.array([[0, 1, 0, 1],\n",
    "              [1, 1, 1, 0],\n",
    "              [1, 0, 0, 1],\n",
    "              [1, 0, 1, 0]])\n",
    "idx = 3\n",
    "\n",
    "num_matrix_elements = a.size\n",
    "dim = a.shape[0]\n",
    "num_idx_bits = int(math.log2(dim))\n",
    "\n",
    "matrix_reg = QuantumRegister(num_matrix_elements, name=\"a\")\n",
    "idx_reg = QuantumRegister(num_idx_bits, name=\"idx\")\n",
    "data_reg = QuantumRegister(dim, name=\"data\")\n",
    "data_creg = ClassicalRegister(dim, name=\"cdata\")\n",
    "\n",
    "qc = QuantumCircuit(matrix_reg, idx_reg, data_reg, data_creg)\n",
    "qc.h(idx_reg)\n",
    "\n",
    "# encode matrix\n",
    "a_flat = a.reshape(-1)\n",
    "it = np.nditer(a_flat, flags=['f_index'])\n",
    "for x in it:\n",
    "    if x != 0:\n",
    "        qc.x(matrix_reg[it.index])\n",
    "    \n",
    "# encode idx\n",
    "# idx_bit_string = format(idx, f'0{num_idx_bits}b')[::-1]\n",
    "# for i, c in enumerate(idx_bit_string):\n",
    "#     if c != '0':\n",
    "#         qc.x(idx_reg[i])\n",
    "\n",
    "m_i = matrix_row_indexer(*a.shape).to_gate()\n",
    "m_i.name = \"Matrix Row Indexer\"\n",
    "qc.append(m_i, [*matrix_reg, *idx_reg, *data_reg])\n",
    "\n",
    "# DEBUG test the matrix indexing circuit\n",
    "qc.measure(data_reg[::-1], data_creg)\n",
    "qc.draw()"
   ]
  },
  {
   "cell_type": "code",
   "execution_count": 89,
   "id": "33f14715",
   "metadata": {},
   "outputs": [],
   "source": [
    "aer_sim = Aer.get_backend('aer_simulator')\n",
    "transpiled_qc = transpile(qc, aer_sim)\n",
    "qobj = assemble(transpiled_qc)\n",
    "result = aer_sim.run(qobj).result()\n",
    "counts = result.get_counts()\n",
    "plot_histogram(counts).savefig(f\"{results_dir}/indexer_superposition.png\")"
   ]
  },
  {
   "cell_type": "markdown",
   "id": "2133cc68",
   "metadata": {},
   "source": [
    "## Inner Product"
   ]
  },
  {
   "cell_type": "code",
   "execution_count": 15,
   "id": "3d82a3bc",
   "metadata": {},
   "outputs": [],
   "source": [
    "def inner_product(vec_size):\n",
    "    a_reg = QuantumRegister(vec_size, name=\"x\")\n",
    "    b_reg = QuantumRegister(vec_size, name=\"y\")\n",
    "    i_reg = QuantumRegister(vec_size, name=\"i\")\n",
    "    out_reg = QuantumRegister(1, name=\"out\")\n",
    "    \n",
    "    qc = QuantumCircuit(a_reg, b_reg, i_reg, out_reg)\n",
    "    \n",
    "    # out-of-place multiplication (logical AND)\n",
    "    for i in range(vec_size):\n",
    "        qc.ccx(a_reg[i], b_reg[i], i_reg[i])\n",
    "\n",
    "    # out-of-place addition (logical OR)\n",
    "    for i in range(vec_size):\n",
    "        qc.x(i_reg[i])\n",
    "\n",
    "    qc.mct(i_reg, out_reg)\n",
    "\n",
    "    for i in range(vec_size):\n",
    "        qc.x(i_reg[i])\n",
    "\n",
    "    qc.x(out_reg)\n",
    "    \n",
    "    return qc"
   ]
  },
  {
   "cell_type": "code",
   "execution_count": 84,
   "id": "7be2eda1",
   "metadata": {},
   "outputs": [
    {
     "data": {
      "text/html": [
       "<pre style=\"word-wrap: normal;white-space: pre;background: #fff0;line-height: 1.1;font-family: &quot;Courier New&quot;,Courier,monospace\">              ░ ┌─────────────────┐ ░    \n",
       "   x_0: ──────░─┤0                ├─░────\n",
       "        ┌───┐ ░ │                 │ ░    \n",
       "   x_1: ┤ X ├─░─┤1                ├─░────\n",
       "        └───┘ ░ │                 │ ░    \n",
       "   x_2: ──────░─┤2                ├─░────\n",
       "        ┌───┐ ░ │                 │ ░    \n",
       "   x_3: ┤ X ├─░─┤3                ├─░────\n",
       "        ├───┤ ░ │                 │ ░    \n",
       "   y_0: ┤ X ├─░─┤4                ├─░────\n",
       "        └───┘ ░ │                 │ ░    \n",
       "   y_1: ──────░─┤5                ├─░────\n",
       "        ┌───┐ ░ │                 │ ░    \n",
       "   y_2: ┤ X ├─░─┤6  Inner Product ├─░────\n",
       "        └───┘ ░ │                 │ ░    \n",
       "   y_3: ──────░─┤7                ├─░────\n",
       "              ░ │                 │ ░    \n",
       "   i_0: ──────░─┤8                ├─░────\n",
       "              ░ │                 │ ░    \n",
       "   i_1: ──────░─┤9                ├─░────\n",
       "              ░ │                 │ ░    \n",
       "   i_2: ──────░─┤10               ├─░────\n",
       "              ░ │                 │ ░    \n",
       "   i_3: ──────░─┤11               ├─░────\n",
       "              ░ │                 │ ░ ┌─┐\n",
       " out_0: ──────░─┤12               ├─░─┤M├\n",
       "              ░ └─────────────────┘ ░ └╥┘\n",
       "cout: 1/═══════════════════════════════╩═\n",
       "                                       0 </pre>"
      ],
      "text/plain": [
       "              ░ ┌─────────────────┐ ░    \n",
       "   x_0: ──────░─┤0                ├─░────\n",
       "        ┌───┐ ░ │                 │ ░    \n",
       "   x_1: ┤ X ├─░─┤1                ├─░────\n",
       "        └───┘ ░ │                 │ ░    \n",
       "   x_2: ──────░─┤2                ├─░────\n",
       "        ┌───┐ ░ │                 │ ░    \n",
       "   x_3: ┤ X ├─░─┤3                ├─░────\n",
       "        ├───┤ ░ │                 │ ░    \n",
       "   y_0: ┤ X ├─░─┤4                ├─░────\n",
       "        └───┘ ░ │                 │ ░    \n",
       "   y_1: ──────░─┤5                ├─░────\n",
       "        ┌───┐ ░ │                 │ ░    \n",
       "   y_2: ┤ X ├─░─┤6  Inner Product ├─░────\n",
       "        └───┘ ░ │                 │ ░    \n",
       "   y_3: ──────░─┤7                ├─░────\n",
       "              ░ │                 │ ░    \n",
       "   i_0: ──────░─┤8                ├─░────\n",
       "              ░ │                 │ ░    \n",
       "   i_1: ──────░─┤9                ├─░────\n",
       "              ░ │                 │ ░    \n",
       "   i_2: ──────░─┤10               ├─░────\n",
       "              ░ │                 │ ░    \n",
       "   i_3: ──────░─┤11               ├─░────\n",
       "              ░ │                 │ ░ ┌─┐\n",
       " out_0: ──────░─┤12               ├─░─┤M├\n",
       "              ░ └─────────────────┘ ░ └╥┘\n",
       "cout: 1/═══════════════════════════════╩═\n",
       "                                       0 "
      ]
     },
     "execution_count": 84,
     "metadata": {},
     "output_type": "execute_result"
    }
   ],
   "source": [
    "# x = np.array([1, 1, 1, 1])\n",
    "# y = np.array([1, 0, 1, 0])\n",
    "# dim = x.size\n",
    "\n",
    "x = np.array([0, 1, 0, 1])\n",
    "y = np.array([1, 0, 1, 0])\n",
    "dim = x.size\n",
    "\n",
    "x_reg = QuantumRegister(dim, name=\"x\")\n",
    "y_reg = QuantumRegister(dim, name=\"y\")\n",
    "i_reg = QuantumRegister(dim, name=\"i\")\n",
    "out_reg = QuantumRegister(1, name=\"out\")\n",
    "out_creg = ClassicalRegister(1, name=\"cout\")\n",
    "\n",
    "qc = QuantumCircuit(x_reg, y_reg, i_reg, out_reg, out_creg)\n",
    "\n",
    "# encode the rows\n",
    "it = np.nditer(x, flags=['f_index'])\n",
    "for x in it:\n",
    "    if x != 0:\n",
    "        qc.x(x_reg[it.index])\n",
    "        \n",
    "it = np.nditer(y, flags=['f_index'])\n",
    "for x in it:\n",
    "    if x != 0:\n",
    "        qc.x(y_reg[it.index])\n",
    "        \n",
    "qc.barrier()\n",
    "\n",
    "ip = inner_product(dim).to_gate()\n",
    "ip.name = \"Inner Product\"\n",
    "\n",
    "qc.append(ip, [*x_reg, *y_reg, *i_reg, *out_reg])\n",
    "\n",
    "qc.barrier()\n",
    "\n",
    "qc.measure(out_reg, out_creg)\n",
    "\n",
    "qc.draw()"
   ]
  },
  {
   "cell_type": "code",
   "execution_count": 86,
   "id": "703fb97c",
   "metadata": {},
   "outputs": [
    {
     "data": {
      "image/png": "[encoded data removed]",
      "text/plain": [
       "<Figure size 504x360 with 1 Axes>"
      ]
     },
     "execution_count": 86,
     "metadata": {},
     "output_type": "execute_result"
    }
   ],
   "source": [
    "aer_sim = Aer.get_backend('aer_simulator')\n",
    "transpiled_qc = transpile(qc, aer_sim)\n",
    "qobj = assemble(transpiled_qc)\n",
    "result = aer_sim.run(qobj).result()\n",
    "counts = result.get_counts()\n",
    "plot_histogram(counts).savefig(f\"{results_dir}/inner_product_true.png\")"
   ]
  },
  {
   "cell_type": "markdown",
   "id": "7c78e281",
   "metadata": {},
   "source": [
    "## VMP Oracle"
   ]
  },
  {
   "cell_type": "code",
   "execution_count": 64,
   "id": "a315fca6",
   "metadata": {},
   "outputs": [],
   "source": [
    "def vmp_marking_oracle(dim_a, barrier=False):\n",
    "    num_idx_bits = math.ceil(math.log2(dim_a))\n",
    "    \n",
    "    # Input data\n",
    "    matrix_reg = QuantumRegister(dim_a * dim_a, name=\"a\")\n",
    "    idx_reg = QuantumRegister(num_idx_bits, name=\"idx\")\n",
    "    x_reg = QuantumRegister(dim_a, name=\"x\")\n",
    "    y_reg = QuantumRegister(dim_a, name=\"y\")\n",
    "    z_reg = QuantumRegister(dim_a, name=\"z\")\n",
    "\n",
    "    # Workspace qubits\n",
    "    ri_reg = QuantumRegister(dim_a, name=\"i\")\n",
    "    zi_reg = QuantumRegister(1, name=\"zi\")\n",
    "    out_reg = QuantumRegister(1, name=\"out\") # also used as marking qubit\n",
    "\n",
    "    m_i = matrix_row_indexer(dim_a, dim_a).to_gate()\n",
    "    m_i.name = \"A_i Indexer\"\n",
    "\n",
    "    z_i = matrix_row_indexer(dim_a, 1).to_gate()\n",
    "    z_i.name = \"z_i Indexer\"\n",
    "\n",
    "    ip = inner_product(dim_a).to_gate()\n",
    "    ip.name = \"Inner Product\"\n",
    "\n",
    "    qc = QuantumCircuit(matrix_reg, idx_reg, x_reg, y_reg, ri_reg, out_reg, z_reg, zi_reg)\n",
    "\n",
    "    qc.append(m_i, [*matrix_reg, *idx_reg, *x_reg])\n",
    "    qc.append(z_i, [*z_reg, *idx_reg, *zi_reg])\n",
    "\n",
    "    if barrier:\n",
    "        qc.barrier()\n",
    "\n",
    "    qc.append(ip, [*x_reg, *y_reg, *ri_reg, *out_reg])\n",
    "\n",
    "    if barrier:\n",
    "        qc.barrier()\n",
    "\n",
    "    qc.cx(zi_reg, out_reg)\n",
    "    qc.x(out_reg)\n",
    "    \n",
    "    if barrier:\n",
    "        qc.barrier()\n",
    "\n",
    "    qc.append(ip.inverse(), [*x_reg, *y_reg, *ri_reg, *out_reg])\n",
    "    \n",
    "    if barrier:\n",
    "        qc.barrier()\n",
    "        \n",
    "    qc.append(z_i.inverse(), [*z_reg, *idx_reg, *zi_reg])\n",
    "    qc.append(m_i.inverse(), [*matrix_reg, *idx_reg, *x_reg])\n",
    "    \n",
    "    return qc"
   ]
  },
  {
   "cell_type": "code",
   "execution_count": null,
   "id": "535fc477",
   "metadata": {},
   "outputs": [],
   "source": [
    "a = np.array([[0, 1, 0, 1],\n",
    "              [1, 1, 1, 0],\n",
    "              [1, 0, 0, 1],\n",
    "              [1, 0, 1, 0]])\n",
    "y = np.array([0, 1, 0, 1])\n",
    "z = np.array([1, 1, 1, 0])\n",
    "idx = 1\n",
    "\n",
    "dim_a = a.shape[0]\n",
    "num_idx_bits = math.ceil(math.log2(dim_a))\n",
    "\n",
    "matrix_reg = QuantumRegister(dim_a * dim_a, name=\"a\")\n",
    "idx_reg = QuantumRegister(num_idx_bits, name=\"idx\")\n",
    "y_reg = QuantumRegister(dim_a, name=\"y\")\n",
    "z_reg = QuantumRegister(dim_a, name=\"z\")\n",
    "\n",
    "# Workspace qubits\n",
    "x_reg = QuantumRegister(dim_a, name=\"x\") # used to store A[i]\n",
    "ri_reg = QuantumRegister(dim_a, name=\"i\") # used to store inner product\n",
    "zi_reg = QuantumRegister(1, name=\"zi\") # used to store z[i]\n",
    "out_reg = QuantumRegister(1, name=\"out\") # also used as marking qubit\n",
    "cout_reg = ClassicalRegister(1, name=\"cout\")\n",
    "\n",
    "qc = QuantumCircuit(matrix_reg, idx_reg, x_reg, y_reg, ri_reg, out_reg, z_reg, zi_reg)\n",
    "\n",
    "# encode inputs\n",
    "encode_array(qc, matrix_reg, a)\n",
    "encode_array(qc, y_reg, y)\n",
    "encode_array(qc, z_reg, z)\n",
    "\n",
    "idx_bit_string = format(idx, f'0{num_idx_bits}b')[::-1]\n",
    "for i, c in enumerate(idx_bit_string):\n",
    "    if c != '0':\n",
    "        qc.x(idx_reg[i])\n",
    "\n",
    "# Put marker qubit in |->\n",
    "qc.x(out_reg)\n",
    "qc.h(out_reg)\n",
    "\n",
    "oracle_qc = vmp_marking_oracle(a.shape[0])\n",
    "oracle_gate = oracle_qc.to_gate()\n",
    "oracle_gate.name = \"Row Product Oracle\"\n",
    "qc.append(oracle_gate, [*matrix_reg, *idx_reg, *x_reg, *y_reg, *ri_reg, *out_reg, *z_reg, *zi_reg])\n",
    "\n",
    "# Undo the x and h gates applied to marker qubit\n",
    "qc.h(out_reg)\n",
    "qc.x(out_reg)\n",
    "\n",
    "qc.draw(output=\"latex\")"
   ]
  },
  {
   "cell_type": "code",
   "execution_count": null,
   "id": "b78cec50",
   "metadata": {},
   "outputs": [],
   "source": [
    "aer_sim = Aer.get_backend('aer_simulator')\n",
    "transpiled_qc = transpile(qc, aer_sim)\n",
    "transpiled_qc.decompose().count_ops()"
   ]
  },
  {
   "cell_type": "code",
   "execution_count": null,
   "id": "060c11e4",
   "metadata": {},
   "outputs": [],
   "source": [
    "grover_problem = AmplificationProblem(qc, objective_qubits=[*idx_reg], is_good_state=['00', '11', '10', '01'])\n",
    "g = Grover()\n",
    "gqc = g.construct_circuit(grover_problem, 2)\n",
    "\n",
    "aer_sim = Aer.get_backend('aer_simulator')\n",
    "transpiled_qc = transpile(gqc, aer_sim)\n",
    "transpiled_qc.decompose().count_ops()"
   ]
  },
  {
   "cell_type": "code",
   "execution_count": null,
   "id": "941975ab",
   "metadata": {},
   "outputs": [],
   "source": [
    "problem = AmplificationProblem(\n",
    "    qc, \n",
    "    state_preparation=gqc, \n",
    "    objective_qubits=[*idx_reg], \n",
    "    is_good_state=['00', '11', '10', '01']\n",
    ")\n",
    "aqc = g.construct_circuit(problem, 1)\n",
    "\n",
    "aer_sim = Aer.get_backend('aer_simulator')\n",
    "transpiled_qc = transpile(aqc, aer_sim)\n",
    "transpiled_qc.decompose().count_ops()"
   ]
  },
  {
   "cell_type": "markdown",
   "id": "173f68de",
   "metadata": {},
   "source": [
    "## Stats"
   ]
  },
  {
   "cell_type": "code",
   "execution_count": 50,
   "id": "229c75c3",
   "metadata": {},
   "outputs": [],
   "source": [
    "def vmp_circuit_stub(dim_a):\n",
    "    num_idx_bits = math.ceil(math.log2(dim_a))\n",
    "    matrix_reg = QuantumRegister(dim_a * dim_a, name=\"a\")\n",
    "    idx_reg = QuantumRegister(num_idx_bits, name=\"idx\")\n",
    "    y_reg = QuantumRegister(dim_a, name=\"y\")\n",
    "    z_reg = QuantumRegister(dim_a, name=\"z\")\n",
    "\n",
    "    # Workspace qubits\n",
    "    x_reg = QuantumRegister(dim_a, name=\"x\") # used to store A[i]\n",
    "    ri_reg = QuantumRegister(dim_a, name=\"i\") # used to store inner product\n",
    "    zi_reg = QuantumRegister(1, name=\"zi\") # used to store z[i]\n",
    "    out_reg = QuantumRegister(1, name=\"out\") # also used as marking qubit\n",
    "    # cout_reg = ClassicalRegister(1, name=\"cout\")\n",
    "\n",
    "    qc = QuantumCircuit(matrix_reg, idx_reg, x_reg, y_reg, ri_reg, out_reg, z_reg, zi_reg)\n",
    "\n",
    "    qc.x(out_reg)\n",
    "    qc.h(out_reg)\n",
    "\n",
    "    oracle_qc = vmp_marking_oracle(dim_a)\n",
    "    oracle_gate = oracle_qc.to_gate()\n",
    "    oracle_gate.name = \"Row Product Oracle\"\n",
    "    \n",
    "    qc.append(oracle_gate, [*matrix_reg, *idx_reg, *x_reg, *y_reg, *ri_reg, *out_reg, *z_reg, *zi_reg])\n",
    "    \n",
    "    qc.h(out_reg)\n",
    "    qc.x(out_reg)\n",
    "    \n",
    "    is_good_state = [format(i, f'0{int(math.log2(dim_a))}b') for i in range(dim_a)]\n",
    "    sqrt_n = int(math.sqrt(dim_a))\n",
    "    sqrt_sqrt_n = int(math.sqrt(sqrt_n))\n",
    "    \n",
    "    qc.barrier()\n",
    "    \n",
    "    grover_problem = AmplificationProblem(\n",
    "        qc, \n",
    "        objective_qubits=[*idx_reg], \n",
    "        is_good_state=is_good_state\n",
    "    )\n",
    "    g = Grover()\n",
    "    gqc = g.construct_circuit(grover_problem, sqrt_n)\n",
    "    \n",
    "    gqc.barrier()\n",
    "    \n",
    "    problem = AmplificationProblem(\n",
    "        qc, \n",
    "        state_preparation=gqc, \n",
    "        objective_qubits=[*idx_reg], \n",
    "        is_good_state=is_good_state\n",
    "    )\n",
    "    aqc = g.construct_circuit(problem, sqrt_sqrt_n)\n",
    "    \n",
    "    return aqc"
   ]
  },
  {
   "cell_type": "code",
   "execution_count": 18,
   "id": "9434ed42",
   "metadata": {},
   "outputs": [],
   "source": [
    "def aer_transpilation_stats(qc):\n",
    "    aer_sim = Aer.get_backend('aer_simulator')\n",
    "    transpiled_qc = transpile(qc, aer_sim)\n",
    "    return transpiled_qc.count_ops(), transpiled_qc"
   ]
  },
  {
   "cell_type": "code",
   "execution_count": 19,
   "id": "3533e313",
   "metadata": {},
   "outputs": [],
   "source": [
    "def aer_transpile(qc):\n",
    "    aer_sim = Aer.get_backend('aer_simulator')\n",
    "    transpiled_qc = transpile(qc, aer_sim)\n",
    "    return transpiled_qc"
   ]
  },
  {
   "cell_type": "code",
   "execution_count": null,
   "id": "70401243",
   "metadata": {},
   "outputs": [],
   "source": [
    "aer_transpilation_stats(vmp_circuit_stub(32))"
   ]
  },
  {
   "cell_type": "code",
   "execution_count": 20,
   "id": "595b3259",
   "metadata": {},
   "outputs": [],
   "source": [
    "import csv\n",
    "import os\n",
    "from collections import defaultdict"
   ]
  },
  {
   "cell_type": "code",
   "execution_count": 76,
   "id": "13536331",
   "metadata": {},
   "outputs": [],
   "source": [
    "def _compile_stats(sizes, filename, circuit_lambda):\n",
    "    stats = []\n",
    "    fieldnames = set({})\n",
    "    for sz in sizes:\n",
    "        transpilation_stats, qc = aer_transpilation_stats(circuit_lambda(sz))\n",
    "        fieldnames = fieldnames.union(transpilation_stats.keys())\n",
    "        transpilation_stats[\"Order\"] = sz\n",
    "        transpilation_stats[\"Total Gates\"] = qc.size()\n",
    "        transpilation_stats[\"Circuit Depth\"] = qc.depth()\n",
    "        transpilation_stats[\"Qubit Count\"] = qc.width()\n",
    "        stats.append(defaultdict(int, transpilation_stats))\n",
    "\n",
    "    fieldnames = [\"Order\"] + sorted(fieldnames) + [\"Total Gates\", \"Circuit Depth\", \"Qubit Count\"]\n",
    "\n",
    "    with open(f\"{results_dir}/{filename}.csv\", \"w\") as csvfile:\n",
    "        writer = csv.DictWriter(csvfile, fieldnames = fieldnames)\n",
    "        writer.writeheader()\n",
    "        writer.writerows(stats)"
   ]
  },
  {
   "cell_type": "code",
   "execution_count": null,
   "id": "ad50ba2d",
   "metadata": {},
   "outputs": [],
   "source": [
    "_compile_stats([2, 4, 8, 16, 24, 32], \"vmp_marking_oracle_stats\", vmp_marking_oracle)"
   ]
  },
  {
   "cell_type": "code",
   "execution_count": 77,
   "id": "eee0ba00",
   "metadata": {},
   "outputs": [],
   "source": [
    "_compile_stats(\n",
    "    [2, 4, 8, 16, 24, 32], \n",
    "    \"vmp_circuit_stats\", \n",
    "    vmp_circuit_stub\n",
    ")"
   ]
  },
  {
   "cell_type": "code",
   "execution_count": 21,
   "id": "173adce0",
   "metadata": {},
   "outputs": [],
   "source": [
    "import timeit"
   ]
  },
  {
   "cell_type": "code",
   "execution_count": 22,
   "id": "99db1cab",
   "metadata": {},
   "outputs": [],
   "source": [
    "def _compile_transpile_time_stats(sizes, filename, circuit_lambda):\n",
    "    times = []\n",
    "    for sz in sizes:\n",
    "        qc = circuit_lambda(sz)\n",
    "        t = timeit.repeat(lambda: aer_transpile(qc), repeat=10, number=1)\n",
    "        t = np.mean(t)\n",
    "        print(f\"{sz}: {t}s\")\n",
    "        times.append({\"Order\": sz, \"Time (seconds)\": t})\n",
    "    \n",
    "    fieldnames = [\"Order\", \"Time (seconds)\"]\n",
    "    with open(f\"{results_dir}/{filename}.csv\", \"w\") as csvfile:\n",
    "        writer = csv.DictWriter(csvfile, fieldnames = fieldnames)\n",
    "        writer.writeheader()\n",
    "        writer.writerows(times)"
   ]
  },
  {
   "cell_type": "code",
   "execution_count": 23,
   "id": "c9baf867",
   "metadata": {},
   "outputs": [
    {
     "name": "stdout",
     "output_type": "stream",
     "text": [
      "2: 0.24860209489997942s\n",
      "4: 0.8189974269000686s\n",
      "8: 2.3804883372999486s\n",
      "16: 27.484900246300004s\n",
      "24: 65.20581728570009s\n"
     ]
    },
    {
     "ename": "KeyboardInterrupt",
     "evalue": "",
     "output_type": "error",
     "traceback": [
      "\u001b[0;31m---------------------------------------------------------------------------\u001b[0m",
      "\u001b[0;31mKeyboardInterrupt\u001b[0m                         Traceback (most recent call last)",
      "\u001b[0;32m<ipython-input-23-019d9bfde8c0>\u001b[0m in \u001b[0;36m<module>\u001b[0;34m\u001b[0m\n\u001b[0;32m----> 1\u001b[0;31m \u001b[0m_compile_transpile_time_stats\u001b[0m\u001b[0;34m(\u001b[0m\u001b[0;34m[\u001b[0m\u001b[0;36m2\u001b[0m\u001b[0;34m,\u001b[0m \u001b[0;36m4\u001b[0m\u001b[0;34m,\u001b[0m \u001b[0;36m8\u001b[0m\u001b[0;34m,\u001b[0m \u001b[0;36m16\u001b[0m\u001b[0;34m,\u001b[0m \u001b[0;36m24\u001b[0m\u001b[0;34m,\u001b[0m \u001b[0;36m32\u001b[0m\u001b[0;34m]\u001b[0m\u001b[0;34m,\u001b[0m \u001b[0;34m\"vmp_circuit_transpile_time_stats\"\u001b[0m\u001b[0;34m,\u001b[0m \u001b[0mvmp_circuit_stub\u001b[0m\u001b[0;34m)\u001b[0m\u001b[0;34m\u001b[0m\u001b[0;34m\u001b[0m\u001b[0m\n\u001b[0m",
      "\u001b[0;32m<ipython-input-22-03ce90f8991a>\u001b[0m in \u001b[0;36m_compile_transpile_time_stats\u001b[0;34m(sizes, filename, circuit_lambda)\u001b[0m\n\u001b[1;32m      3\u001b[0m     \u001b[0;32mfor\u001b[0m \u001b[0msz\u001b[0m \u001b[0;32min\u001b[0m \u001b[0msizes\u001b[0m\u001b[0;34m:\u001b[0m\u001b[0;34m\u001b[0m\u001b[0;34m\u001b[0m\u001b[0m\n\u001b[1;32m      4\u001b[0m         \u001b[0mqc\u001b[0m \u001b[0;34m=\u001b[0m \u001b[0mcircuit_lambda\u001b[0m\u001b[0;34m(\u001b[0m\u001b[0msz\u001b[0m\u001b[0;34m)\u001b[0m\u001b[0;34m\u001b[0m\u001b[0;34m\u001b[0m\u001b[0m\n\u001b[0;32m----> 5\u001b[0;31m         \u001b[0mt\u001b[0m \u001b[0;34m=\u001b[0m \u001b[0mtimeit\u001b[0m\u001b[0;34m.\u001b[0m\u001b[0mrepeat\u001b[0m\u001b[0;34m(\u001b[0m\u001b[0;32mlambda\u001b[0m\u001b[0;34m:\u001b[0m \u001b[0maer_transpile\u001b[0m\u001b[0;34m(\u001b[0m\u001b[0mqc\u001b[0m\u001b[0;34m)\u001b[0m\u001b[0;34m,\u001b[0m \u001b[0mrepeat\u001b[0m\u001b[0;34m=\u001b[0m\u001b[0;36m10\u001b[0m\u001b[0;34m,\u001b[0m \u001b[0mnumber\u001b[0m\u001b[0;34m=\u001b[0m\u001b[0;36m1\u001b[0m\u001b[0;34m)\u001b[0m\u001b[0;34m\u001b[0m\u001b[0;34m\u001b[0m\u001b[0m\n\u001b[0m\u001b[1;32m      6\u001b[0m         \u001b[0mt\u001b[0m \u001b[0;34m=\u001b[0m \u001b[0mnp\u001b[0m\u001b[0;34m.\u001b[0m\u001b[0mmean\u001b[0m\u001b[0;34m(\u001b[0m\u001b[0mt\u001b[0m\u001b[0;34m)\u001b[0m\u001b[0;34m\u001b[0m\u001b[0;34m\u001b[0m\u001b[0m\n\u001b[1;32m      7\u001b[0m         \u001b[0mprint\u001b[0m\u001b[0;34m(\u001b[0m\u001b[0;34mf\"{sz}: {t}s\"\u001b[0m\u001b[0;34m)\u001b[0m\u001b[0;34m\u001b[0m\u001b[0;34m\u001b[0m\u001b[0m\n",
      "\u001b[0;32m/Library/Frameworks/Python.framework/Versions/3.9/lib/python3.9/timeit.py\u001b[0m in \u001b[0;36mrepeat\u001b[0;34m(stmt, setup, timer, repeat, number, globals)\u001b[0m\n\u001b[1;32m    236\u001b[0m            repeat=default_repeat, number=default_number, globals=None):\n\u001b[1;32m    237\u001b[0m     \u001b[0;34m\"\"\"Convenience function to create Timer object and call repeat method.\"\"\"\u001b[0m\u001b[0;34m\u001b[0m\u001b[0;34m\u001b[0m\u001b[0m\n\u001b[0;32m--> 238\u001b[0;31m     \u001b[0;32mreturn\u001b[0m \u001b[0mTimer\u001b[0m\u001b[0;34m(\u001b[0m\u001b[0mstmt\u001b[0m\u001b[0;34m,\u001b[0m \u001b[0msetup\u001b[0m\u001b[0;34m,\u001b[0m \u001b[0mtimer\u001b[0m\u001b[0;34m,\u001b[0m \u001b[0mglobals\u001b[0m\u001b[0;34m)\u001b[0m\u001b[0;34m.\u001b[0m\u001b[0mrepeat\u001b[0m\u001b[0;34m(\u001b[0m\u001b[0mrepeat\u001b[0m\u001b[0;34m,\u001b[0m \u001b[0mnumber\u001b[0m\u001b[0;34m)\u001b[0m\u001b[0;34m\u001b[0m\u001b[0;34m\u001b[0m\u001b[0m\n\u001b[0m\u001b[1;32m    239\u001b[0m \u001b[0;34m\u001b[0m\u001b[0m\n\u001b[1;32m    240\u001b[0m \u001b[0;32mdef\u001b[0m \u001b[0mmain\u001b[0m\u001b[0;34m(\u001b[0m\u001b[0margs\u001b[0m\u001b[0;34m=\u001b[0m\u001b[0;32mNone\u001b[0m\u001b[0;34m,\u001b[0m \u001b[0;34m*\u001b[0m\u001b[0;34m,\u001b[0m \u001b[0m_wrap_timer\u001b[0m\u001b[0;34m=\u001b[0m\u001b[0;32mNone\u001b[0m\u001b[0;34m)\u001b[0m\u001b[0;34m:\u001b[0m\u001b[0;34m\u001b[0m\u001b[0;34m\u001b[0m\u001b[0m\n",
      "\u001b[0;32m/Library/Frameworks/Python.framework/Versions/3.9/lib/python3.9/timeit.py\u001b[0m in \u001b[0;36mrepeat\u001b[0;34m(self, repeat, number)\u001b[0m\n\u001b[1;32m    203\u001b[0m         \u001b[0mr\u001b[0m \u001b[0;34m=\u001b[0m \u001b[0;34m[\u001b[0m\u001b[0;34m]\u001b[0m\u001b[0;34m\u001b[0m\u001b[0;34m\u001b[0m\u001b[0m\n\u001b[1;32m    204\u001b[0m         \u001b[0;32mfor\u001b[0m \u001b[0mi\u001b[0m \u001b[0;32min\u001b[0m \u001b[0mrange\u001b[0m\u001b[0;34m(\u001b[0m\u001b[0mrepeat\u001b[0m\u001b[0;34m)\u001b[0m\u001b[0;34m:\u001b[0m\u001b[0;34m\u001b[0m\u001b[0;34m\u001b[0m\u001b[0m\n\u001b[0;32m--> 205\u001b[0;31m             \u001b[0mt\u001b[0m \u001b[0;34m=\u001b[0m \u001b[0mself\u001b[0m\u001b[0;34m.\u001b[0m\u001b[0mtimeit\u001b[0m\u001b[0;34m(\u001b[0m\u001b[0mnumber\u001b[0m\u001b[0;34m)\u001b[0m\u001b[0;34m\u001b[0m\u001b[0;34m\u001b[0m\u001b[0m\n\u001b[0m\u001b[1;32m    206\u001b[0m             \u001b[0mr\u001b[0m\u001b[0;34m.\u001b[0m\u001b[0mappend\u001b[0m\u001b[0;34m(\u001b[0m\u001b[0mt\u001b[0m\u001b[0;34m)\u001b[0m\u001b[0;34m\u001b[0m\u001b[0;34m\u001b[0m\u001b[0m\n\u001b[1;32m    207\u001b[0m         \u001b[0;32mreturn\u001b[0m \u001b[0mr\u001b[0m\u001b[0;34m\u001b[0m\u001b[0;34m\u001b[0m\u001b[0m\n",
      "\u001b[0;32m/Library/Frameworks/Python.framework/Versions/3.9/lib/python3.9/timeit.py\u001b[0m in \u001b[0;36mtimeit\u001b[0;34m(self, number)\u001b[0m\n\u001b[1;32m    175\u001b[0m         \u001b[0mgc\u001b[0m\u001b[0;34m.\u001b[0m\u001b[0mdisable\u001b[0m\u001b[0;34m(\u001b[0m\u001b[0;34m)\u001b[0m\u001b[0;34m\u001b[0m\u001b[0;34m\u001b[0m\u001b[0m\n\u001b[1;32m    176\u001b[0m         \u001b[0;32mtry\u001b[0m\u001b[0;34m:\u001b[0m\u001b[0;34m\u001b[0m\u001b[0;34m\u001b[0m\u001b[0m\n\u001b[0;32m--> 177\u001b[0;31m             \u001b[0mtiming\u001b[0m \u001b[0;34m=\u001b[0m \u001b[0mself\u001b[0m\u001b[0;34m.\u001b[0m\u001b[0minner\u001b[0m\u001b[0;34m(\u001b[0m\u001b[0mit\u001b[0m\u001b[0;34m,\u001b[0m \u001b[0mself\u001b[0m\u001b[0;34m.\u001b[0m\u001b[0mtimer\u001b[0m\u001b[0;34m)\u001b[0m\u001b[0;34m\u001b[0m\u001b[0;34m\u001b[0m\u001b[0m\n\u001b[0m\u001b[1;32m    178\u001b[0m         \u001b[0;32mfinally\u001b[0m\u001b[0;34m:\u001b[0m\u001b[0;34m\u001b[0m\u001b[0;34m\u001b[0m\u001b[0m\n\u001b[1;32m    179\u001b[0m             \u001b[0;32mif\u001b[0m \u001b[0mgcold\u001b[0m\u001b[0;34m:\u001b[0m\u001b[0;34m\u001b[0m\u001b[0;34m\u001b[0m\u001b[0m\n",
      "\u001b[0;32m/Library/Frameworks/Python.framework/Versions/3.9/lib/python3.9/timeit.py\u001b[0m in \u001b[0;36minner\u001b[0;34m(_it, _timer, _stmt)\u001b[0m\n",
      "\u001b[0;32m<ipython-input-22-03ce90f8991a>\u001b[0m in \u001b[0;36m<lambda>\u001b[0;34m()\u001b[0m\n\u001b[1;32m      3\u001b[0m     \u001b[0;32mfor\u001b[0m \u001b[0msz\u001b[0m \u001b[0;32min\u001b[0m \u001b[0msizes\u001b[0m\u001b[0;34m:\u001b[0m\u001b[0;34m\u001b[0m\u001b[0;34m\u001b[0m\u001b[0m\n\u001b[1;32m      4\u001b[0m         \u001b[0mqc\u001b[0m \u001b[0;34m=\u001b[0m \u001b[0mcircuit_lambda\u001b[0m\u001b[0;34m(\u001b[0m\u001b[0msz\u001b[0m\u001b[0;34m)\u001b[0m\u001b[0;34m\u001b[0m\u001b[0;34m\u001b[0m\u001b[0m\n\u001b[0;32m----> 5\u001b[0;31m         \u001b[0mt\u001b[0m \u001b[0;34m=\u001b[0m \u001b[0mtimeit\u001b[0m\u001b[0;34m.\u001b[0m\u001b[0mrepeat\u001b[0m\u001b[0;34m(\u001b[0m\u001b[0;32mlambda\u001b[0m\u001b[0;34m:\u001b[0m \u001b[0maer_transpile\u001b[0m\u001b[0;34m(\u001b[0m\u001b[0mqc\u001b[0m\u001b[0;34m)\u001b[0m\u001b[0;34m,\u001b[0m \u001b[0mrepeat\u001b[0m\u001b[0;34m=\u001b[0m\u001b[0;36m10\u001b[0m\u001b[0;34m,\u001b[0m \u001b[0mnumber\u001b[0m\u001b[0;34m=\u001b[0m\u001b[0;36m1\u001b[0m\u001b[0;34m)\u001b[0m\u001b[0;34m\u001b[0m\u001b[0;34m\u001b[0m\u001b[0m\n\u001b[0m\u001b[1;32m      6\u001b[0m         \u001b[0mt\u001b[0m \u001b[0;34m=\u001b[0m \u001b[0mnp\u001b[0m\u001b[0;34m.\u001b[0m\u001b[0mmean\u001b[0m\u001b[0;34m(\u001b[0m\u001b[0mt\u001b[0m\u001b[0;34m)\u001b[0m\u001b[0;34m\u001b[0m\u001b[0;34m\u001b[0m\u001b[0m\n\u001b[1;32m      7\u001b[0m         \u001b[0mprint\u001b[0m\u001b[0;34m(\u001b[0m\u001b[0;34mf\"{sz}: {t}s\"\u001b[0m\u001b[0;34m)\u001b[0m\u001b[0;34m\u001b[0m\u001b[0;34m\u001b[0m\u001b[0m\n",
      "\u001b[0;32m<ipython-input-19-16c6ad5a428d>\u001b[0m in \u001b[0;36maer_transpile\u001b[0;34m(qc)\u001b[0m\n\u001b[1;32m      1\u001b[0m \u001b[0;32mdef\u001b[0m \u001b[0maer_transpile\u001b[0m\u001b[0;34m(\u001b[0m\u001b[0mqc\u001b[0m\u001b[0;34m)\u001b[0m\u001b[0;34m:\u001b[0m\u001b[0;34m\u001b[0m\u001b[0;34m\u001b[0m\u001b[0m\n\u001b[1;32m      2\u001b[0m     \u001b[0maer_sim\u001b[0m \u001b[0;34m=\u001b[0m \u001b[0mAer\u001b[0m\u001b[0;34m.\u001b[0m\u001b[0mget_backend\u001b[0m\u001b[0;34m(\u001b[0m\u001b[0;34m'aer_simulator'\u001b[0m\u001b[0;34m)\u001b[0m\u001b[0;34m\u001b[0m\u001b[0;34m\u001b[0m\u001b[0m\n\u001b[0;32m----> 3\u001b[0;31m     \u001b[0mtranspiled_qc\u001b[0m \u001b[0;34m=\u001b[0m \u001b[0mtranspile\u001b[0m\u001b[0;34m(\u001b[0m\u001b[0mqc\u001b[0m\u001b[0;34m,\u001b[0m \u001b[0maer_sim\u001b[0m\u001b[0;34m)\u001b[0m\u001b[0;34m\u001b[0m\u001b[0;34m\u001b[0m\u001b[0m\n\u001b[0m\u001b[1;32m      4\u001b[0m     \u001b[0;32mreturn\u001b[0m \u001b[0mtranspiled_qc\u001b[0m\u001b[0;34m\u001b[0m\u001b[0;34m\u001b[0m\u001b[0m\n",
      "\u001b[0;32m/Library/Frameworks/Python.framework/Versions/3.9/lib/python3.9/site-packages/qiskit/compiler/transpiler.py\u001b[0m in \u001b[0;36mtranspile\u001b[0;34m(circuits, backend, basis_gates, coupling_map, backend_properties, initial_layout, layout_method, routing_method, translation_method, scheduling_method, instruction_durations, dt, approximation_degree, seed_transpiler, optimization_level, pass_manager, callback, output_name)\u001b[0m\n\u001b[1;32m    243\u001b[0m \u001b[0;34m\u001b[0m\u001b[0m\n\u001b[1;32m    244\u001b[0m     \u001b[0;31m# Transpile circuits in parallel\u001b[0m\u001b[0;34m\u001b[0m\u001b[0;34m\u001b[0m\u001b[0;34m\u001b[0m\u001b[0m\n\u001b[0;32m--> 245\u001b[0;31m     \u001b[0mcircuits\u001b[0m \u001b[0;34m=\u001b[0m \u001b[0mparallel_map\u001b[0m\u001b[0;34m(\u001b[0m\u001b[0m_transpile_circuit\u001b[0m\u001b[0;34m,\u001b[0m \u001b[0mlist\u001b[0m\u001b[0;34m(\u001b[0m\u001b[0mzip\u001b[0m\u001b[0;34m(\u001b[0m\u001b[0mcircuits\u001b[0m\u001b[0;34m,\u001b[0m \u001b[0mtranspile_args\u001b[0m\u001b[0;34m)\u001b[0m\u001b[0;34m)\u001b[0m\u001b[0;34m)\u001b[0m\u001b[0;34m\u001b[0m\u001b[0;34m\u001b[0m\u001b[0m\n\u001b[0m\u001b[1;32m    246\u001b[0m \u001b[0;34m\u001b[0m\u001b[0m\n\u001b[1;32m    247\u001b[0m     \u001b[0mend_time\u001b[0m \u001b[0;34m=\u001b[0m \u001b[0mtime\u001b[0m\u001b[0;34m(\u001b[0m\u001b[0;34m)\u001b[0m\u001b[0;34m\u001b[0m\u001b[0;34m\u001b[0m\u001b[0m\n",
      "\u001b[0;32m/Library/Frameworks/Python.framework/Versions/3.9/lib/python3.9/site-packages/qiskit/tools/parallel.py\u001b[0m in \u001b[0;36mparallel_map\u001b[0;34m(task, values, task_args, task_kwargs, num_processes)\u001b[0m\n\u001b[1;32m    126\u001b[0m         \u001b[0;32mreturn\u001b[0m \u001b[0;34m[\u001b[0m\u001b[0;34m]\u001b[0m\u001b[0;34m\u001b[0m\u001b[0;34m\u001b[0m\u001b[0m\n\u001b[1;32m    127\u001b[0m     \u001b[0;32mif\u001b[0m \u001b[0mlen\u001b[0m\u001b[0;34m(\u001b[0m\u001b[0mvalues\u001b[0m\u001b[0;34m)\u001b[0m \u001b[0;34m==\u001b[0m \u001b[0;36m1\u001b[0m\u001b[0;34m:\u001b[0m\u001b[0;34m\u001b[0m\u001b[0;34m\u001b[0m\u001b[0m\n\u001b[0;32m--> 128\u001b[0;31m         \u001b[0;32mreturn\u001b[0m \u001b[0;34m[\u001b[0m\u001b[0mtask\u001b[0m\u001b[0;34m(\u001b[0m\u001b[0mvalues\u001b[0m\u001b[0;34m[\u001b[0m\u001b[0;36m0\u001b[0m\u001b[0;34m]\u001b[0m\u001b[0;34m,\u001b[0m \u001b[0;34m*\u001b[0m\u001b[0mtask_args\u001b[0m\u001b[0;34m,\u001b[0m \u001b[0;34m**\u001b[0m\u001b[0mtask_kwargs\u001b[0m\u001b[0;34m)\u001b[0m\u001b[0;34m]\u001b[0m\u001b[0;34m\u001b[0m\u001b[0;34m\u001b[0m\u001b[0m\n\u001b[0m\u001b[1;32m    129\u001b[0m \u001b[0;34m\u001b[0m\u001b[0m\n\u001b[1;32m    130\u001b[0m     \u001b[0mPublisher\u001b[0m\u001b[0;34m(\u001b[0m\u001b[0;34m)\u001b[0m\u001b[0;34m.\u001b[0m\u001b[0mpublish\u001b[0m\u001b[0;34m(\u001b[0m\u001b[0;34m\"terra.parallel.start\"\u001b[0m\u001b[0;34m,\u001b[0m \u001b[0mlen\u001b[0m\u001b[0;34m(\u001b[0m\u001b[0mvalues\u001b[0m\u001b[0;34m)\u001b[0m\u001b[0;34m)\u001b[0m\u001b[0;34m\u001b[0m\u001b[0;34m\u001b[0m\u001b[0m\n",
      "\u001b[0;32m/Library/Frameworks/Python.framework/Versions/3.9/lib/python3.9/site-packages/qiskit/compiler/transpiler.py\u001b[0m in \u001b[0;36m_transpile_circuit\u001b[0;34m(circuit_config_tuple)\u001b[0m\n\u001b[1;32m    326\u001b[0m         \u001b[0;32mraise\u001b[0m \u001b[0mTranspilerError\u001b[0m\u001b[0;34m(\u001b[0m\u001b[0;34m\"optimization_level can range from 0 to 3.\"\u001b[0m\u001b[0;34m)\u001b[0m\u001b[0;34m\u001b[0m\u001b[0;34m\u001b[0m\u001b[0m\n\u001b[1;32m    327\u001b[0m \u001b[0;34m\u001b[0m\u001b[0m\n\u001b[0;32m--> 328\u001b[0;31m     result = pass_manager.run(circuit, callback=transpile_config['callback'],\n\u001b[0m\u001b[1;32m    329\u001b[0m                               output_name=transpile_config['output_name'])\n\u001b[1;32m    330\u001b[0m \u001b[0;34m\u001b[0m\u001b[0m\n",
      "\u001b[0;32m/Library/Frameworks/Python.framework/Versions/3.9/lib/python3.9/site-packages/qiskit/transpiler/passmanager.py\u001b[0m in \u001b[0;36mrun\u001b[0;34m(self, circuits, output_name, callback)\u001b[0m\n\u001b[1;32m    214\u001b[0m         \"\"\"\n\u001b[1;32m    215\u001b[0m         \u001b[0;32mif\u001b[0m \u001b[0misinstance\u001b[0m\u001b[0;34m(\u001b[0m\u001b[0mcircuits\u001b[0m\u001b[0;34m,\u001b[0m \u001b[0mQuantumCircuit\u001b[0m\u001b[0;34m)\u001b[0m\u001b[0;34m:\u001b[0m\u001b[0;34m\u001b[0m\u001b[0;34m\u001b[0m\u001b[0m\n\u001b[0;32m--> 216\u001b[0;31m             \u001b[0;32mreturn\u001b[0m \u001b[0mself\u001b[0m\u001b[0;34m.\u001b[0m\u001b[0m_run_single_circuit\u001b[0m\u001b[0;34m(\u001b[0m\u001b[0mcircuits\u001b[0m\u001b[0;34m,\u001b[0m \u001b[0moutput_name\u001b[0m\u001b[0;34m,\u001b[0m \u001b[0mcallback\u001b[0m\u001b[0;34m)\u001b[0m\u001b[0;34m\u001b[0m\u001b[0;34m\u001b[0m\u001b[0m\n\u001b[0m\u001b[1;32m    217\u001b[0m         \u001b[0;32melif\u001b[0m \u001b[0mlen\u001b[0m\u001b[0;34m(\u001b[0m\u001b[0mcircuits\u001b[0m\u001b[0;34m)\u001b[0m \u001b[0;34m==\u001b[0m \u001b[0;36m1\u001b[0m\u001b[0;34m:\u001b[0m\u001b[0;34m\u001b[0m\u001b[0;34m\u001b[0m\u001b[0m\n\u001b[1;32m    218\u001b[0m             \u001b[0;32mreturn\u001b[0m \u001b[0mself\u001b[0m\u001b[0;34m.\u001b[0m\u001b[0m_run_single_circuit\u001b[0m\u001b[0;34m(\u001b[0m\u001b[0mcircuits\u001b[0m\u001b[0;34m[\u001b[0m\u001b[0;36m0\u001b[0m\u001b[0;34m]\u001b[0m\u001b[0;34m,\u001b[0m \u001b[0moutput_name\u001b[0m\u001b[0;34m,\u001b[0m \u001b[0mcallback\u001b[0m\u001b[0;34m)\u001b[0m\u001b[0;34m\u001b[0m\u001b[0;34m\u001b[0m\u001b[0m\n",
      "\u001b[0;32m/Library/Frameworks/Python.framework/Versions/3.9/lib/python3.9/site-packages/qiskit/transpiler/passmanager.py\u001b[0m in \u001b[0;36m_run_single_circuit\u001b[0;34m(self, circuit, output_name, callback)\u001b[0m\n\u001b[1;32m    275\u001b[0m         \"\"\"\n\u001b[1;32m    276\u001b[0m         \u001b[0mrunning_passmanager\u001b[0m \u001b[0;34m=\u001b[0m \u001b[0mself\u001b[0m\u001b[0;34m.\u001b[0m\u001b[0m_create_running_passmanager\u001b[0m\u001b[0;34m(\u001b[0m\u001b[0;34m)\u001b[0m\u001b[0;34m\u001b[0m\u001b[0;34m\u001b[0m\u001b[0m\n\u001b[0;32m--> 277\u001b[0;31m         \u001b[0mresult\u001b[0m \u001b[0;34m=\u001b[0m \u001b[0mrunning_passmanager\u001b[0m\u001b[0;34m.\u001b[0m\u001b[0mrun\u001b[0m\u001b[0;34m(\u001b[0m\u001b[0mcircuit\u001b[0m\u001b[0;34m,\u001b[0m \u001b[0moutput_name\u001b[0m\u001b[0;34m=\u001b[0m\u001b[0moutput_name\u001b[0m\u001b[0;34m,\u001b[0m \u001b[0mcallback\u001b[0m\u001b[0;34m=\u001b[0m\u001b[0mcallback\u001b[0m\u001b[0;34m)\u001b[0m\u001b[0;34m\u001b[0m\u001b[0;34m\u001b[0m\u001b[0m\n\u001b[0m\u001b[1;32m    278\u001b[0m         \u001b[0mself\u001b[0m\u001b[0;34m.\u001b[0m\u001b[0mproperty_set\u001b[0m \u001b[0;34m=\u001b[0m \u001b[0mrunning_passmanager\u001b[0m\u001b[0;34m.\u001b[0m\u001b[0mproperty_set\u001b[0m\u001b[0;34m\u001b[0m\u001b[0;34m\u001b[0m\u001b[0m\n\u001b[1;32m    279\u001b[0m         \u001b[0;32mreturn\u001b[0m \u001b[0mresult\u001b[0m\u001b[0;34m\u001b[0m\u001b[0;34m\u001b[0m\u001b[0m\n",
      "\u001b[0;32m/Library/Frameworks/Python.framework/Versions/3.9/lib/python3.9/site-packages/qiskit/transpiler/runningpassmanager.py\u001b[0m in \u001b[0;36mrun\u001b[0;34m(***failed resolving arguments***)\u001b[0m\n\u001b[1;32m    120\u001b[0m         \u001b[0;32mfor\u001b[0m \u001b[0mpassset\u001b[0m \u001b[0;32min\u001b[0m \u001b[0mself\u001b[0m\u001b[0;34m.\u001b[0m\u001b[0mworking_list\u001b[0m\u001b[0;34m:\u001b[0m\u001b[0;34m\u001b[0m\u001b[0;34m\u001b[0m\u001b[0m\n\u001b[1;32m    121\u001b[0m             \u001b[0;32mfor\u001b[0m \u001b[0mpass_\u001b[0m \u001b[0;32min\u001b[0m \u001b[0mpassset\u001b[0m\u001b[0;34m:\u001b[0m\u001b[0;34m\u001b[0m\u001b[0;34m\u001b[0m\u001b[0m\n\u001b[0;32m--> 122\u001b[0;31m                 \u001b[0mdag\u001b[0m \u001b[0;34m=\u001b[0m \u001b[0mself\u001b[0m\u001b[0;34m.\u001b[0m\u001b[0m_do_pass\u001b[0m\u001b[0;34m(\u001b[0m\u001b[0mpass_\u001b[0m\u001b[0;34m,\u001b[0m \u001b[0mdag\u001b[0m\u001b[0;34m,\u001b[0m \u001b[0mpassset\u001b[0m\u001b[0;34m.\u001b[0m\u001b[0moptions\u001b[0m\u001b[0;34m)\u001b[0m\u001b[0;34m\u001b[0m\u001b[0;34m\u001b[0m\u001b[0m\n\u001b[0m\u001b[1;32m    123\u001b[0m \u001b[0;34m\u001b[0m\u001b[0m\n\u001b[1;32m    124\u001b[0m         \u001b[0mcircuit\u001b[0m \u001b[0;34m=\u001b[0m \u001b[0mdag_to_circuit\u001b[0m\u001b[0;34m(\u001b[0m\u001b[0mdag\u001b[0m\u001b[0;34m)\u001b[0m\u001b[0;34m\u001b[0m\u001b[0;34m\u001b[0m\u001b[0m\n",
      "\u001b[0;32m/Library/Frameworks/Python.framework/Versions/3.9/lib/python3.9/site-packages/qiskit/transpiler/runningpassmanager.py\u001b[0m in \u001b[0;36m_do_pass\u001b[0;34m(self, pass_, dag, options)\u001b[0m\n\u001b[1;32m    151\u001b[0m         \u001b[0;31m# Run the pass itself, if not already run\u001b[0m\u001b[0;34m\u001b[0m\u001b[0;34m\u001b[0m\u001b[0;34m\u001b[0m\u001b[0m\n\u001b[1;32m    152\u001b[0m         \u001b[0;32mif\u001b[0m \u001b[0mpass_\u001b[0m \u001b[0;32mnot\u001b[0m \u001b[0;32min\u001b[0m \u001b[0mself\u001b[0m\u001b[0;34m.\u001b[0m\u001b[0mvalid_passes\u001b[0m\u001b[0;34m:\u001b[0m\u001b[0;34m\u001b[0m\u001b[0;34m\u001b[0m\u001b[0m\n\u001b[0;32m--> 153\u001b[0;31m             \u001b[0mdag\u001b[0m \u001b[0;34m=\u001b[0m \u001b[0mself\u001b[0m\u001b[0;34m.\u001b[0m\u001b[0m_run_this_pass\u001b[0m\u001b[0;34m(\u001b[0m\u001b[0mpass_\u001b[0m\u001b[0;34m,\u001b[0m \u001b[0mdag\u001b[0m\u001b[0;34m)\u001b[0m\u001b[0;34m\u001b[0m\u001b[0;34m\u001b[0m\u001b[0m\n\u001b[0m\u001b[1;32m    154\u001b[0m \u001b[0;34m\u001b[0m\u001b[0m\n\u001b[1;32m    155\u001b[0m             \u001b[0;31m# update the valid_passes property\u001b[0m\u001b[0;34m\u001b[0m\u001b[0;34m\u001b[0m\u001b[0;34m\u001b[0m\u001b[0m\n",
      "\u001b[0;32m/Library/Frameworks/Python.framework/Versions/3.9/lib/python3.9/site-packages/qiskit/transpiler/runningpassmanager.py\u001b[0m in \u001b[0;36m_run_this_pass\u001b[0;34m(self, pass_, dag)\u001b[0m\n\u001b[1;32m    163\u001b[0m             \u001b[0;31m# Measure time if we have a callback or logging set\u001b[0m\u001b[0;34m\u001b[0m\u001b[0;34m\u001b[0m\u001b[0;34m\u001b[0m\u001b[0m\n\u001b[1;32m    164\u001b[0m             \u001b[0mstart_time\u001b[0m \u001b[0;34m=\u001b[0m \u001b[0mtime\u001b[0m\u001b[0;34m(\u001b[0m\u001b[0;34m)\u001b[0m\u001b[0;34m\u001b[0m\u001b[0;34m\u001b[0m\u001b[0m\n\u001b[0;32m--> 165\u001b[0;31m             \u001b[0mnew_dag\u001b[0m \u001b[0;34m=\u001b[0m \u001b[0mpass_\u001b[0m\u001b[0;34m.\u001b[0m\u001b[0mrun\u001b[0m\u001b[0;34m(\u001b[0m\u001b[0mdag\u001b[0m\u001b[0;34m)\u001b[0m\u001b[0;34m\u001b[0m\u001b[0;34m\u001b[0m\u001b[0m\n\u001b[0m\u001b[1;32m    166\u001b[0m             \u001b[0mend_time\u001b[0m \u001b[0;34m=\u001b[0m \u001b[0mtime\u001b[0m\u001b[0;34m(\u001b[0m\u001b[0;34m)\u001b[0m\u001b[0;34m\u001b[0m\u001b[0;34m\u001b[0m\u001b[0m\n\u001b[1;32m    167\u001b[0m             \u001b[0mrun_time\u001b[0m \u001b[0;34m=\u001b[0m \u001b[0mend_time\u001b[0m \u001b[0;34m-\u001b[0m \u001b[0mstart_time\u001b[0m\u001b[0;34m\u001b[0m\u001b[0;34m\u001b[0m\u001b[0m\n",
      "\u001b[0;31mKeyboardInterrupt\u001b[0m: "
     ]
    }
   ],
   "source": [
    "_compile_transpile_time_stats([2, 4, 8, 16, 24, 32], \"vmp_circuit_transpile_time_stats\", vmp_circuit_stub)"
   ]
  },
  {
   "cell_type": "markdown",
   "id": "8040a3c4",
   "metadata": {},
   "source": [
    "## Figures"
   ]
  },
  {
   "cell_type": "code",
   "execution_count": 37,
   "id": "9721edd6",
   "metadata": {},
   "outputs": [],
   "source": [
    "# Toffoli and gate\n",
    "a = QuantumRegister(1, name=\"a\")\n",
    "b = QuantumRegister(1, name=\"b\")\n",
    "a_n_b = QuantumRegister(1, name=\"res\")\n",
    "\n",
    "qc = QuantumCircuit(a, b, a_n_b)\n",
    "qc.ccx(a, b, a_n_b)\n",
    "\n",
    "qc.draw(output=\"latex\", scale=0.5).save(f\"{results_dir}/toffoli_and.png\")"
   ]
  },
  {
   "cell_type": "code",
   "execution_count": 42,
   "id": "b4982aa6",
   "metadata": {},
   "outputs": [],
   "source": [
    "# Matrix indexer circuit A is a 3x3 circuit\n",
    "qc = matrix_row_indexer(3, 3)\n",
    "qc.draw(output=\"latex\", scale=0.5).save(f\"{results_dir}/indexer_3x3.png\")"
   ]
  },
  {
   "cell_type": "code",
   "execution_count": 44,
   "id": "4413578d",
   "metadata": {},
   "outputs": [],
   "source": [
    "# Inner product circuit\n",
    "qc = inner_product(3)\n",
    "qc.draw(output=\"latex\", scale=0.5).save(f\"{results_dir}/inner_product_3x1.png\")"
   ]
  },
  {
   "cell_type": "code",
   "execution_count": 66,
   "id": "55843e87",
   "metadata": {},
   "outputs": [],
   "source": [
    "# Oracle circuit 4x4\n",
    "qc = vmp_marking_oracle(4, barrier=True)\n",
    "qc.draw(output=\"latex\", scale=0.4).save(f\"{results_dir}/oracle_circuit_4x4.png\")"
   ]
  },
  {
   "cell_type": "code",
   "execution_count": null,
   "id": "663eab2a",
   "metadata": {},
   "outputs": [],
   "source": [
    "# Functionality of matrix indexer"
   ]
  },
  {
   "cell_type": "code",
   "execution_count": null,
   "id": "5f3c1bee",
   "metadata": {},
   "outputs": [],
   "source": [
    "# Functionality of inner product"
   ]
  },
  {
   "cell_type": "code",
   "execution_count": 51,
   "id": "70a9afda",
   "metadata": {},
   "outputs": [],
   "source": [
    "# Final circuit (with ampl amplification)\n",
    "qc = vmp_circuit_stub(4)\n",
    "# TODO"
   ]
  },
  {
   "cell_type": "code",
   "execution_count": null,
   "id": "34df79ea",
   "metadata": {},
   "outputs": [],
   "source": [
    "# table 1, table 2, table 3 "
   ]
  }
 ],
 "metadata": {
  "kernelspec": {
   "display_name": "Python 3",
   "language": "python",
   "name": "python3"
  },
  "language_info": {
   "codemirror_mode": {
    "name": "ipython",
    "version": 3
   },
   "file_extension": ".py",
   "mimetype": "text/x-python",
   "name": "python",
   "nbconvert_exporter": "python",
   "pygments_lexer": "ipython3",
   "version": "3.9.4"
  }
 },
 "nbformat": 4,
 "nbformat_minor": 5
}

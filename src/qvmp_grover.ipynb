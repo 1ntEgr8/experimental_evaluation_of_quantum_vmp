{
 "cells": [
  {
   "cell_type": "code",
   "execution_count": 5,
   "id": "7b030733",
   "metadata": {},
   "outputs": [],
   "source": [
    "import numpy as np\n",
    "import math\n",
    "from qiskit import QuantumCircuit, QuantumRegister, ClassicalRegister\n",
    "from qiskit import Aer, assemble, transpile\n",
    "from qiskit.providers.aer import AerSimulator\n",
    "from qiskit.visualization import plot_histogram\n",
    "from qiskit.quantum_info import Statevector\n",
    "from qiskit.algorithms import AmplificationProblem, Grover"
   ]
  },
  {
   "cell_type": "markdown",
   "id": "97224542",
   "metadata": {},
   "source": [
    "## QROM"
   ]
  },
  {
   "cell_type": "code",
   "execution_count": 6,
   "id": "d428bd89",
   "metadata": {},
   "outputs": [],
   "source": [
    "def qrom(database, name=\"db\"):\n",
    "    # Check if database is binary\n",
    "    assert ((database == 0) | (database == 1)).all()\n",
    "    \n",
    "    def encode_row(i):\n",
    "        row = database[i]\n",
    "        for j in range(len(row)):\n",
    "            if row[j] == 1:\n",
    "                qc.mct(addr_qreg, data_qreg[j])\n",
    "\n",
    "    def bit_diff_pos(a, b):\n",
    "        return (addrs[i] ^ addrs[i-1]).bit_length() - 1\n",
    "\n",
    "    def grey_code(n):\n",
    "        return n ^ (n >> 1)\n",
    "    \n",
    "    nrows, ncols = database.shape\n",
    "    addr_size = math.ceil(math.log2(nrows))\n",
    "    addrs = [grey_code(n) for n in range(nrows)]\n",
    "    \n",
    "    addr_qreg = QuantumRegister(addr_size, name=f\"{name}-address\")\n",
    "    data_qreg = QuantumRegister(ncols, name=f\"{name}-data\")\n",
    "    \n",
    "    qc = QuantumCircuit(addr_qreg, data_qreg)\n",
    "    \n",
    "    qc.x(addr_qreg)\n",
    "    encode_row(0)\n",
    "    \n",
    "    qc.barrier()\n",
    "    \n",
    "    for i in range(1, len(addrs)):\n",
    "        qc.x(addr_qreg[bit_diff_pos(addrs[i], addrs[i-1])])\n",
    "        encode_row(addrs[i])\n",
    "        qc.barrier()\n",
    "    \n",
    "    qc.name = name\n",
    "    \n",
    "    return qc"
   ]
  },
  {
   "cell_type": "markdown",
   "id": "3a6de679",
   "metadata": {},
   "source": [
    "## Inner Product (out of place)"
   ]
  },
  {
   "cell_type": "code",
   "execution_count": 7,
   "id": "0d49c3e1",
   "metadata": {},
   "outputs": [],
   "source": [
    "def inner_product(reg_sz, name=\"dot\"):\n",
    "    a = QuantumRegister(reg_sz, name=f\"{name}_a\")\n",
    "    b = QuantumRegister(reg_sz, name=f\"{name}_b\")\n",
    "    out = QuantumRegister(1, name=f\"{name}_out\")\n",
    "\n",
    "    qc = QuantumCircuit(a, b, out)\n",
    "    \n",
    "    for i in range(reg_sz):\n",
    "        qc.mct([a[i], b[i]], out)\n",
    "        \n",
    "    qc.name = name\n",
    "    \n",
    "    return qc"
   ]
  },
  {
   "cell_type": "markdown",
   "id": "45c63e33",
   "metadata": {},
   "source": [
    "## Grover circuit"
   ]
  },
  {
   "cell_type": "code",
   "execution_count": 8,
   "id": "85f01143",
   "metadata": {},
   "outputs": [],
   "source": [
    "def diffuser(nqubits):\n",
    "    qc = QuantumCircuit(nqubits)\n",
    "\n",
    "    for qubit in range(nqubits):\n",
    "        qc.h(qubit)\n",
    "\n",
    "    for qubit in range(nqubits):\n",
    "        qc.x(qubit)\n",
    "\n",
    "    qc.h(nqubits-1)\n",
    "    qc.mct(list(range(nqubits-1)), nqubits-1)  # multi-controlled-toffoli\n",
    "    qc.h(nqubits-1)\n",
    "\n",
    "    for qubit in range(nqubits):\n",
    "        qc.x(qubit)\n",
    "\n",
    "    for qubit in range(nqubits):\n",
    "        qc.h(qubit)\n",
    "\n",
    "    U_s = qc.to_gate()\n",
    "    U_s.name = \"diffuser\"\n",
    "    return U_s"
   ]
  },
  {
   "cell_type": "code",
   "execution_count": 9,
   "id": "06dd77a7",
   "metadata": {},
   "outputs": [],
   "source": [
    "def encode_vector(qc, qreg, vec):\n",
    "    a = vec.reshape(-1)\n",
    "    \n",
    "    for i in range(len(a)):\n",
    "        if a[i] == 1:\n",
    "            qc.x(qreg[i])"
   ]
  },
  {
   "cell_type": "code",
   "execution_count": 10,
   "id": "99843355",
   "metadata": {},
   "outputs": [],
   "source": [
    "def gen_input(dim, num_incorrect, seed=None):\n",
    "    if seed is not None:\n",
    "        np.random.seed(seed)\n",
    "    nrows, ncols = dim\n",
    "    A = np.random.randint(0, 2, dim)\n",
    "    y = np.random.randint(0, 2, (ncols,))\n",
    "    z = A@y % 2\n",
    "\n",
    "    idx = np.random.choice(range(0, nrows), num_incorrect, replace=False)\n",
    "    for i in idx:\n",
    "        z[i] = not z[i]\n",
    "\n",
    "    return A, y, z, idx"
   ]
  },
  {
   "cell_type": "code",
   "execution_count": 11,
   "id": "5dd4a1af",
   "metadata": {},
   "outputs": [],
   "source": [
    "def qvmp_grover_submatrix(A, y, z, num_solutions, num_iterations=None, with_amplitude_amplification=False):\n",
    "    db = np.concatenate((A, z.reshape((1, -1)).T), axis=1)\n",
    "    nrows, ncols = A.shape\n",
    "    addr_size = math.ceil(math.log2(nrows))\n",
    "\n",
    "    addr_qreg = QuantumRegister(addr_size, name=\"address\")\n",
    "    A_qreg = QuantumRegister(ncols, name=\"a\")\n",
    "    y_qreg = QuantumRegister(ncols, name=\"y\")\n",
    "    z_qreg = QuantumRegister(1, name=\"z\")\n",
    "\n",
    "    data_out = ClassicalRegister(addr_size, name=\"data\")\n",
    "\n",
    "    qc = QuantumCircuit(addr_qreg, A_qreg, y_qreg, z_qreg, data_out)\n",
    "    \n",
    "    qc.h(addr_qreg)\n",
    "    encode_vector(qc, y_qreg, y)\n",
    "    qc.barrier()\n",
    "\n",
    "    qdb = qrom(db)\n",
    "    dot = inner_product(ncols)\n",
    "\n",
    "    if num_iterations is None:\n",
    "        if num_solutions == 0:\n",
    "            num_iterations = 1\n",
    "        else:\n",
    "            num_iterations = Grover.optimal_num_iterations(num_solutions, addr_size)\n",
    "        \n",
    "    num_aa_iterations = math.sqrt(num_iterations)\n",
    "    if num_aa_iterations.is_integer():\n",
    "        num_aa_iterations = math.floor(num_aa_iterations) + 1\n",
    "    else:\n",
    "        num_aa_iterations = math.floor(num_aa_iterations)\n",
    "    \n",
    "    def do_grover_iterations():\n",
    "        for i in range(num_iterations):\n",
    "            qc.append(qdb, [*addr_qreg, *A_qreg, *z_qreg])\n",
    "            qc.append(dot, [*A_qreg, *y_qreg, *z_qreg])\n",
    "\n",
    "            qc.z(z_qreg)\n",
    "\n",
    "            qc.append(dot.inverse(), [*A_qreg, *y_qreg, *z_qreg])\n",
    "            qc.append(qdb.inverse(), [*addr_qreg, *A_qreg, *z_qreg])\n",
    "\n",
    "            qc.barrier()\n",
    "\n",
    "            qc.append(diffuser(addr_size), [*addr_qreg])\n",
    "    \n",
    "    if with_amplitude_amplification:\n",
    "        for j in range(num_aa_iterations):\n",
    "            do_grover_iterations()\n",
    "            qc.barrier()\n",
    "            qc.append(diffuser(addr_size), [*addr_qreg])\n",
    "    else:\n",
    "        do_grover_iterations()\n",
    "        \n",
    "    qc.barrier()\n",
    "\n",
    "    qc.measure([*addr_qreg], data_out)\n",
    "    \n",
    "    return qc, num_iterations"
   ]
  },
  {
   "cell_type": "code",
   "execution_count": 12,
   "id": "4cb20c48",
   "metadata": {},
   "outputs": [],
   "source": [
    "def run_experiment(dims, num_incorrect, seed, is_known):\n",
    "    nrows, ncols = dims\n",
    "    A, y, z, idx = gen_input(dims, num_incorrect, seed=seed)\n",
    "\n",
    "    if is_known:\n",
    "        qc, num_iterations = qvmp_grover_submatrix(A, y, z, num_incorrect)\n",
    "    else:\n",
    "        qc, num_iterations = qvmp_grover_submatrix(\n",
    "            A, y, z,\n",
    "            num_incorrect,\n",
    "            num_iterations=math.floor(nrows ** 0.5),\n",
    "            with_amplitude_amplification=True\n",
    "        )\n",
    "      \n",
    "    backend = AerSimulator(method=\"statevector\")\n",
    "    qobj = assemble(transpile(qc, backend))\n",
    "    result = backend.run(qobj).result()\n",
    "\n",
    "    return result, idx, num_iterations"
   ]
  },
  {
   "cell_type": "markdown",
   "id": "6973d20d",
   "metadata": {},
   "source": [
    "## Figures"
   ]
  },
  {
   "cell_type": "code",
   "execution_count": 13,
   "id": "b3d85c4e",
   "metadata": {},
   "outputs": [],
   "source": [
    "seed = 42"
   ]
  },
  {
   "cell_type": "code",
   "execution_count": 30,
   "id": "759f6c14",
   "metadata": {},
   "outputs": [],
   "source": [
    "# fig:qvmp_functionality_found_known\n",
    "result, idx, num_iterations = run_experiment((8,8), 3, seed, is_known=True)\n",
    "plot_histogram(result.get_counts()).savefig(\"../results/figures/qvmp_functionality_found_known.pdf\")"
   ]
  },
  {
   "cell_type": "code",
   "execution_count": 31,
   "id": "e6b52d67",
   "metadata": {},
   "outputs": [],
   "source": [
    "# fig:qvmp_functionality_found_unknown\n",
    "result, idx, num_iterations = run_experiment((8,8), 3, seed, is_known=False)\n",
    "plot_histogram(result.get_counts()).savefig(\"../results/figures/qvmp_functionality_found_unknown.pdf\")"
   ]
  },
  {
   "cell_type": "code",
   "execution_count": 32,
   "id": "f176a1ef",
   "metadata": {},
   "outputs": [],
   "source": [
    "# fig:qvmp_functionality_none_known\n",
    "result, idx, num_iterations = run_experiment((8,8), 0, seed, is_known=True)\n",
    "plot_histogram(result.get_counts()).savefig(\"../results/figures/qvmp_functionality_none_known.pdf\")"
   ]
  },
  {
   "cell_type": "code",
   "execution_count": 18,
   "id": "98fce7fc",
   "metadata": {},
   "outputs": [
    {
     "data": {
      "image/png": "[encoded data removed]",
      "text/plain": [
       "<Figure size 504x360 with 1 Axes>"
      ]
     },
     "execution_count": 18,
     "metadata": {},
     "output_type": "execute_result"
    }
   ],
   "source": [
    "# fig:qvmp_functionality_none_unknown\n",
    "result, idx, num_iterations = run_experiment((8,8), 0, seed, is_known=False)\n",
    "plot_histogram(result.get_counts()).savefig(\"../results/figures/qvmp_fu\")"
   ]
  },
  {
   "cell_type": "code",
   "execution_count": 29,
   "id": "588c91b8",
   "metadata": {},
   "outputs": [
    {
     "data": {
      "image/png": "[encoded data removed]",
      "text/plain": [
       "<Figure size 504x360 with 1 Axes>"
      ]
     },
     "execution_count": 29,
     "metadata": {},
     "output_type": "execute_result"
    }
   ],
   "source": [
    "# fig:qvmp_functionality_pfound_known__1\n",
    "result, idx, num_iterations = run_experiment((16,8), 3, seed, is_known=True)\n",
    "plot_histogram(result.get_counts(), bar_labels=False)"
   ]
  },
  {
   "cell_type": "code",
   "execution_count": 27,
   "id": "9cc0caf9",
   "metadata": {},
   "outputs": [
    {
     "data": {
      "image/png": "[encoded data removed]",
      "text/plain": [
       "<Figure size 504x360 with 1 Axes>"
      ]
     },
     "execution_count": 27,
     "metadata": {},
     "output_type": "execute_result"
    }
   ],
   "source": [
    "# fig:qvmp_functionality_pfound_unknown__1\n",
    "result, idx, num_iterations = run_experiment((16,8), 3, seed, is_known=False)\n",
    "plot_histogram(result.get_counts())"
   ]
  },
  {
   "cell_type": "code",
   "execution_count": 28,
   "id": "d74c196c",
   "metadata": {},
   "outputs": [
    {
     "data": {
      "image/png": "[encoded data removed]",
      "text/plain": [
       "<Figure size 504x360 with 1 Axes>"
      ]
     },
     "execution_count": 28,
     "metadata": {},
     "output_type": "execute_result"
    }
   ],
   "source": [
    "# fig:qvmp_functionality_pfound_known__2\n",
    "result, idx, num_iterations = run_experiment((8,8), 5, seed, is_known=True)\n",
    "plot_histogram(result.get_counts())"
   ]
  }
 ],
 "metadata": {
  "kernelspec": {
   "display_name": "Python 3 (ipykernel)",
   "language": "python",
   "name": "python3"
  },
  "language_info": {
   "codemirror_mode": {
    "name": "ipython",
    "version": 3
   },
   "file_extension": ".py",
   "mimetype": "text/x-python",
   "name": "python",
   "nbconvert_exporter": "python",
   "pygments_lexer": "ipython3",
   "version": "3.8.13"
  }
 },
 "nbformat": 4,
 "nbformat_minor": 5
}

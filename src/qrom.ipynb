{
 "cells": [
  {
   "cell_type": "code",
   "execution_count": 85,
   "id": "e39ad900",
   "metadata": {},
   "outputs": [],
   "source": [
    "import numpy as np\n",
    "import math\n",
    "from qiskit import QuantumCircuit, QuantumRegister, ClassicalRegister\n",
    "from qiskit import Aer, assemble, transpile\n",
    "from qiskit.visualization import plot_histogram"
   ]
  },
  {
   "cell_type": "code",
   "execution_count": 72,
   "id": "0a363e68",
   "metadata": {},
   "outputs": [],
   "source": [
    "def qrom(database, name=\"db\", barriers=False):\n",
    "    # Check if database is binary\n",
    "    assert ((database == 0) | (database == 1)).all()\n",
    "    \n",
    "    def encode_row(i):\n",
    "        row = database[i]\n",
    "        for j in range(len(row)):\n",
    "            if row[j] == 1:\n",
    "                qc.mct(addr_qreg, data_qreg[j])\n",
    "\n",
    "    def bit_diff_pos(a, b):\n",
    "        return (addrs[i] ^ addrs[i-1]).bit_length() - 1\n",
    "\n",
    "    def grey_code(n):\n",
    "        return n ^ (n >> 1)\n",
    "    \n",
    "    nrows, ncols = database.shape\n",
    "    addr_size = math.ceil(math.log2(nrows))\n",
    "    addrs = [grey_code(n) for n in range(nrows)]\n",
    "    \n",
    "    addr_qreg = QuantumRegister(addr_size, name=f\"{name}-address\")\n",
    "    data_qreg = QuantumRegister(ncols, name=f\"{name}-data\")\n",
    "    \n",
    "    qc = QuantumCircuit(addr_qreg, data_qreg)\n",
    "    \n",
    "    qc.x(addr_qreg)\n",
    "    encode_row(0)\n",
    "    \n",
    "    if barriers: qc.barrier()\n",
    "    \n",
    "    for i in range(1, len(addrs)):\n",
    "        qc.x(addr_qreg[bit_diff_pos(addrs[i], addrs[i-1])])\n",
    "        encode_row(i)\n",
    "        if barriers: qc.barrier()\n",
    "\n",
    "    qc.x(addr_qreg[bit_diff_pos(addrs[0], addrs[-1])])\n",
    "    \n",
    "    return qc"
   ]
  },
  {
   "cell_type": "markdown",
   "id": "56428026",
   "metadata": {},
   "source": [
    "## Demo"
   ]
  },
  {
   "cell_type": "code",
   "execution_count": 93,
   "id": "69e73de1",
   "metadata": {},
   "outputs": [
    {
     "data": {
      "text/plain": [
       "array([[1, 1, 1, 0],\n",
       "       [0, 0, 1, 0],\n",
       "       [1, 0, 0, 1],\n",
       "       [1, 0, 0, 0]])"
      ]
     },
     "execution_count": 93,
     "metadata": {},
     "output_type": "execute_result"
    }
   ],
   "source": [
    "database = np.random.randint(0, 2, (4,4))\n",
    "database"
   ]
  },
  {
   "cell_type": "markdown",
   "id": "67d4f601",
   "metadata": {},
   "source": [
    "### Functionality"
   ]
  },
  {
   "cell_type": "code",
   "execution_count": 95,
   "id": "25aa7e8f",
   "metadata": {},
   "outputs": [
    {
     "data": {
      "text/html": [
       "<pre style=\"word-wrap: normal;white-space: pre;background: #fff0;line-height: 1.1;font-family: &quot;Courier New&quot;,Courier,monospace\">           ┌───┐ ░ ┌───────┐ ░ ┌─┐               \n",
       "address_0: ┤ H ├─░─┤0      ├─░─┤M├───────────────\n",
       "           ├───┤ ░ │       │ ░ └╥┘┌─┐            \n",
       "address_1: ┤ H ├─░─┤1      ├─░──╫─┤M├────────────\n",
       "           └───┘ ░ │       │ ░  ║ └╥┘┌─┐         \n",
       "   data_0: ──────░─┤2      ├─░──╫──╫─┤M├─────────\n",
       "                 ░ │  QROM │ ░  ║  ║ └╥┘┌─┐      \n",
       "   data_1: ──────░─┤3      ├─░──╫──╫──╫─┤M├──────\n",
       "                 ░ │       │ ░  ║  ║  ║ └╥┘┌─┐   \n",
       "   data_2: ──────░─┤4      ├─░──╫──╫──╫──╫─┤M├───\n",
       "                 ░ │       │ ░  ║  ║  ║  ║ └╥┘┌─┐\n",
       "   data_3: ──────░─┤5      ├─░──╫──╫──╫──╫──╫─┤M├\n",
       "                 ░ └───────┘ ░  ║  ║  ║  ║  ║ └╥┘\n",
       "   meas: 6/═════════════════════╩══╩══╩══╩══╩══╩═\n",
       "                                0  1  2  3  4  5 </pre>"
      ],
      "text/plain": [
       "           ┌───┐ ░ ┌───────┐ ░ ┌─┐               \n",
       "address_0: ┤ H ├─░─┤0      ├─░─┤M├───────────────\n",
       "           ├───┤ ░ │       │ ░ └╥┘┌─┐            \n",
       "address_1: ┤ H ├─░─┤1      ├─░──╫─┤M├────────────\n",
       "           └───┘ ░ │       │ ░  ║ └╥┘┌─┐         \n",
       "   data_0: ──────░─┤2      ├─░──╫──╫─┤M├─────────\n",
       "                 ░ │  QROM │ ░  ║  ║ └╥┘┌─┐      \n",
       "   data_1: ──────░─┤3      ├─░──╫──╫──╫─┤M├──────\n",
       "                 ░ │       │ ░  ║  ║  ║ └╥┘┌─┐   \n",
       "   data_2: ──────░─┤4      ├─░──╫──╫──╫──╫─┤M├───\n",
       "                 ░ │       │ ░  ║  ║  ║  ║ └╥┘┌─┐\n",
       "   data_3: ──────░─┤5      ├─░──╫──╫──╫──╫──╫─┤M├\n",
       "                 ░ └───────┘ ░  ║  ║  ║  ║  ║ └╥┘\n",
       "   meas: 6/═════════════════════╩══╩══╩══╩══╩══╩═\n",
       "                                0  1  2  3  4  5 "
      ]
     },
     "execution_count": 95,
     "metadata": {},
     "output_type": "execute_result"
    }
   ],
   "source": [
    "nrows, ncols = database.shape\n",
    "addr_size = math.ceil(math.log2(nrows))\n",
    "\n",
    "addr_qreg = QuantumRegister(addr_size, name=f\"address\")\n",
    "data_qreg = QuantumRegister(ncols, name=f\"data\")\n",
    "\n",
    "qc = QuantumCircuit(addr_qreg, data_qreg)\n",
    "\n",
    "qc.h(addr_qreg)\n",
    "\n",
    "qc.barrier()\n",
    "\n",
    "qdb = qrom(database).to_gate(label=\"QROM\")\n",
    "qc.append(qdb, [*addr_qreg, *data_qreg])\n",
    "\n",
    "qc.measure_all()\n",
    "\n",
    "qc.draw()"
   ]
  },
  {
   "cell_type": "code",
   "execution_count": 96,
   "id": "a77009a7",
   "metadata": {},
   "outputs": [
    {
     "data": {
      "image/png": "[encoded data removed]",
      "text/plain": [
       "<Figure size 504x360 with 1 Axes>"
      ]
     },
     "execution_count": 96,
     "metadata": {},
     "output_type": "execute_result"
    }
   ],
   "source": [
    "aer_sim = Aer.get_backend(\"aer_simulator\")\n",
    "qobj = assemble(transpile(qc, aer_sim))\n",
    "result = aer_sim.run(qobj).result()\n",
    "counts = result.get_counts()\n",
    "plot_histogram(counts)"
   ]
  },
  {
   "cell_type": "markdown",
   "id": "193bacb5",
   "metadata": {},
   "source": [
    "### Internals"
   ]
  },
  {
   "cell_type": "code",
   "execution_count": 98,
   "id": "ba1c75ea",
   "metadata": {},
   "outputs": [
    {
     "data": {
      "text/html": [
       "<pre style=\"word-wrap: normal;white-space: pre;background: #fff0;line-height: 1.1;font-family: &quot;Courier New&quot;,Courier,monospace\">              ┌───┐                ░ ┌───┐      ░                 ░ ┌───┐     »\n",
       "db-address_0: ┤ X ├──■────■────■───░─┤ X ├──■───░────────■────■───░─┤ X ├──■──»\n",
       "              ├───┤  │    │    │   ░ └───┘  │   ░ ┌───┐  │    │   ░ └───┘  │  »\n",
       "db-address_1: ┤ X ├──■────■────■───░────────■───░─┤ X ├──■────■───░────────■──»\n",
       "              └───┘┌─┴─┐  │    │   ░        │   ░ └───┘┌─┴─┐  │   ░      ┌─┴─┐»\n",
       "   db-data_0: ─────┤ X ├──┼────┼───░────────┼───░──────┤ X ├──┼───░──────┤ X ├»\n",
       "                   └───┘┌─┴─┐  │   ░        │   ░      └───┘  │   ░      └───┘»\n",
       "   db-data_1: ──────────┤ X ├──┼───░────────┼───░─────────────┼───░───────────»\n",
       "                        └───┘┌─┴─┐ ░      ┌─┴─┐ ░             │   ░           »\n",
       "   db-data_2: ───────────────┤ X ├─░──────┤ X ├─░─────────────┼───░───────────»\n",
       "                             └───┘ ░      └───┘ ░           ┌─┴─┐ ░           »\n",
       "   db-data_3: ─────────────────────░────────────░───────────┤ X ├─░───────────»\n",
       "                                   ░            ░           └───┘ ░           »\n",
       "«               ░ ┌───┐\n",
       "«db-address_0: ─░─┤ X ├\n",
       "«               ░ └───┘\n",
       "«db-address_1: ─░──────\n",
       "«               ░      \n",
       "«   db-data_0: ─░──────\n",
       "«               ░      \n",
       "«   db-data_1: ─░──────\n",
       "«               ░      \n",
       "«   db-data_2: ─░──────\n",
       "«               ░      \n",
       "«   db-data_3: ─░──────\n",
       "«               ░      </pre>"
      ],
      "text/plain": [
       "              ┌───┐                ░ ┌───┐      ░                 ░ ┌───┐     »\n",
       "db-address_0: ┤ X ├──■────■────■───░─┤ X ├──■───░────────■────■───░─┤ X ├──■──»\n",
       "              ├───┤  │    │    │   ░ └───┘  │   ░ ┌───┐  │    │   ░ └───┘  │  »\n",
       "db-address_1: ┤ X ├──■────■────■───░────────■───░─┤ X ├──■────■───░────────■──»\n",
       "              └───┘┌─┴─┐  │    │   ░        │   ░ └───┘┌─┴─┐  │   ░      ┌─┴─┐»\n",
       "   db-data_0: ─────┤ X ├──┼────┼───░────────┼───░──────┤ X ├──┼───░──────┤ X ├»\n",
       "                   └───┘┌─┴─┐  │   ░        │   ░      └───┘  │   ░      └───┘»\n",
       "   db-data_1: ──────────┤ X ├──┼───░────────┼───░─────────────┼───░───────────»\n",
       "                        └───┘┌─┴─┐ ░      ┌─┴─┐ ░             │   ░           »\n",
       "   db-data_2: ───────────────┤ X ├─░──────┤ X ├─░─────────────┼───░───────────»\n",
       "                             └───┘ ░      └───┘ ░           ┌─┴─┐ ░           »\n",
       "   db-data_3: ─────────────────────░────────────░───────────┤ X ├─░───────────»\n",
       "                                   ░            ░           └───┘ ░           »\n",
       "«               ░ ┌───┐\n",
       "«db-address_0: ─░─┤ X ├\n",
       "«               ░ └───┘\n",
       "«db-address_1: ─░──────\n",
       "«               ░      \n",
       "«   db-data_0: ─░──────\n",
       "«               ░      \n",
       "«   db-data_1: ─░──────\n",
       "«               ░      \n",
       "«   db-data_2: ─░──────\n",
       "«               ░      \n",
       "«   db-data_3: ─░──────\n",
       "«               ░      "
      ]
     },
     "execution_count": 98,
     "metadata": {},
     "output_type": "execute_result"
    }
   ],
   "source": [
    "qdb = qrom(database, barriers=True)\n",
    "qdb.draw()"
   ]
  }
 ],
 "metadata": {
  "kernelspec": {
   "display_name": "Python 3 (ipykernel)",
   "language": "python",
   "name": "python3"
  },
  "language_info": {
   "codemirror_mode": {
    "name": "ipython",
    "version": 3
   },
   "file_extension": ".py",
   "mimetype": "text/x-python",
   "name": "python",
   "nbconvert_exporter": "python",
   "pygments_lexer": "ipython3",
   "version": "3.9.7"
  }
 },
 "nbformat": 4,
 "nbformat_minor": 5
}
